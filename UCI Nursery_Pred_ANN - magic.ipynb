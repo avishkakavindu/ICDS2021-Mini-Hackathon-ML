{
 "cells": [
  {
   "cell_type": "code",
   "execution_count": 1,
   "metadata": {},
   "outputs": [],
   "source": [
    "import pandas as pd\n",
    "from sklearn.model_selection import train_test_split\n",
    "from sklearn.compose import make_column_transformer\n",
    "from sklearn import preprocessing \n",
    "import matplotlib.pyplot as plt\n",
    "import numpy as np\n",
    "import os"
   ]
  },
  {
   "cell_type": "code",
   "execution_count": 2,
   "metadata": {},
   "outputs": [],
   "source": [
    "cwd = os.getcwd()\n",
    "test_set = pd.DataFrame(pd.read_csv(os.path.join(cwd, 'datasets/test_data.csv')))\n",
    "dataset = pd.DataFrame(pd.read_csv(os.path.join(cwd, 'datasets/train_data.csv')))"
   ]
  },
  {
   "cell_type": "code",
   "execution_count": 3,
   "metadata": {},
   "outputs": [
    {
     "data": {
      "text/html": [
       "<div>\n",
       "<style scoped>\n",
       "    .dataframe tbody tr th:only-of-type {\n",
       "        vertical-align: middle;\n",
       "    }\n",
       "\n",
       "    .dataframe tbody tr th {\n",
       "        vertical-align: top;\n",
       "    }\n",
       "\n",
       "    .dataframe thead th {\n",
       "        text-align: right;\n",
       "    }\n",
       "</style>\n",
       "<table border=\"1\" class=\"dataframe\">\n",
       "  <thead>\n",
       "    <tr style=\"text-align: right;\">\n",
       "      <th></th>\n",
       "      <th>ID</th>\n",
       "      <th>parents</th>\n",
       "      <th>has_nurs</th>\n",
       "      <th>form</th>\n",
       "      <th>children</th>\n",
       "      <th>housing</th>\n",
       "      <th>finance</th>\n",
       "      <th>social</th>\n",
       "      <th>health</th>\n",
       "      <th>app_status</th>\n",
       "    </tr>\n",
       "  </thead>\n",
       "  <tbody>\n",
       "    <tr>\n",
       "      <th>0</th>\n",
       "      <td>1</td>\n",
       "      <td>usual</td>\n",
       "      <td>less_proper</td>\n",
       "      <td>complete</td>\n",
       "      <td>3</td>\n",
       "      <td>critical</td>\n",
       "      <td>convenient</td>\n",
       "      <td>problematic</td>\n",
       "      <td>not_recom</td>\n",
       "      <td>0</td>\n",
       "    </tr>\n",
       "    <tr>\n",
       "      <th>1</th>\n",
       "      <td>2</td>\n",
       "      <td>pretentious</td>\n",
       "      <td>very_crit</td>\n",
       "      <td>completed</td>\n",
       "      <td>1</td>\n",
       "      <td>convenient</td>\n",
       "      <td>inconv</td>\n",
       "      <td>nonprob</td>\n",
       "      <td>not_recom</td>\n",
       "      <td>0</td>\n",
       "    </tr>\n",
       "    <tr>\n",
       "      <th>2</th>\n",
       "      <td>3</td>\n",
       "      <td>pretentious</td>\n",
       "      <td>proper</td>\n",
       "      <td>incomplete</td>\n",
       "      <td>1</td>\n",
       "      <td>less_conv</td>\n",
       "      <td>convenient</td>\n",
       "      <td>slightly_prob</td>\n",
       "      <td>priority</td>\n",
       "      <td>1</td>\n",
       "    </tr>\n",
       "    <tr>\n",
       "      <th>3</th>\n",
       "      <td>4</td>\n",
       "      <td>great_pret</td>\n",
       "      <td>improper</td>\n",
       "      <td>complete</td>\n",
       "      <td>1</td>\n",
       "      <td>convenient</td>\n",
       "      <td>convenient</td>\n",
       "      <td>nonprob</td>\n",
       "      <td>recommended</td>\n",
       "      <td>1</td>\n",
       "    </tr>\n",
       "    <tr>\n",
       "      <th>4</th>\n",
       "      <td>5</td>\n",
       "      <td>great_pret</td>\n",
       "      <td>less_proper</td>\n",
       "      <td>completed</td>\n",
       "      <td>1</td>\n",
       "      <td>convenient</td>\n",
       "      <td>convenient</td>\n",
       "      <td>slightly_prob</td>\n",
       "      <td>priority</td>\n",
       "      <td>1</td>\n",
       "    </tr>\n",
       "  </tbody>\n",
       "</table>\n",
       "</div>"
      ],
      "text/plain": [
       "   ID      parents     has_nurs        form children     housing     finance  \\\n",
       "0   1        usual  less_proper    complete        3    critical  convenient   \n",
       "1   2  pretentious    very_crit   completed        1  convenient      inconv   \n",
       "2   3  pretentious       proper  incomplete        1   less_conv  convenient   \n",
       "3   4   great_pret     improper    complete        1  convenient  convenient   \n",
       "4   5   great_pret  less_proper   completed        1  convenient  convenient   \n",
       "\n",
       "          social       health  app_status  \n",
       "0    problematic    not_recom           0  \n",
       "1        nonprob    not_recom           0  \n",
       "2  slightly_prob     priority           1  \n",
       "3        nonprob  recommended           1  \n",
       "4  slightly_prob     priority           1  "
      ]
     },
     "execution_count": 3,
     "metadata": {},
     "output_type": "execute_result"
    }
   ],
   "source": [
    "dataset.head()"
   ]
  },
  {
   "cell_type": "code",
   "execution_count": 4,
   "metadata": {},
   "outputs": [
    {
     "data": {
      "text/plain": [
       "(10368, 10)"
      ]
     },
     "execution_count": 4,
     "metadata": {},
     "output_type": "execute_result"
    }
   ],
   "source": [
    "dataset.shape"
   ]
  },
  {
   "cell_type": "code",
   "execution_count": 5,
   "metadata": {},
   "outputs": [
    {
     "name": "stdout",
     "output_type": "stream",
     "text": [
      "<class 'pandas.core.frame.DataFrame'>\n",
      "RangeIndex: 10368 entries, 0 to 10367\n",
      "Data columns (total 10 columns):\n",
      " #   Column      Non-Null Count  Dtype \n",
      "---  ------      --------------  ----- \n",
      " 0   ID          10368 non-null  int64 \n",
      " 1   parents     10368 non-null  object\n",
      " 2   has_nurs    10368 non-null  object\n",
      " 3   form        10368 non-null  object\n",
      " 4   children    10368 non-null  object\n",
      " 5   housing     10368 non-null  object\n",
      " 6   finance     10368 non-null  object\n",
      " 7   social      10368 non-null  object\n",
      " 8   health      10368 non-null  object\n",
      " 9   app_status  10368 non-null  int64 \n",
      "dtypes: int64(2), object(8)\n",
      "memory usage: 810.1+ KB\n"
     ]
    }
   ],
   "source": [
    "dataset.info()"
   ]
  },
  {
   "cell_type": "code",
   "execution_count": 6,
   "metadata": {},
   "outputs": [
    {
     "name": "stdout",
     "output_type": "stream",
     "text": [
      "<class 'pandas.core.frame.DataFrame'>\n",
      "RangeIndex: 2592 entries, 0 to 2591\n",
      "Data columns (total 9 columns):\n",
      " #   Column    Non-Null Count  Dtype \n",
      "---  ------    --------------  ----- \n",
      " 0   ID        2592 non-null   int64 \n",
      " 1   parents   2592 non-null   object\n",
      " 2   has_nurs  2592 non-null   object\n",
      " 3   form      2592 non-null   object\n",
      " 4   children  2592 non-null   object\n",
      " 5   housing   2592 non-null   object\n",
      " 6   finance   2592 non-null   object\n",
      " 7   social    2592 non-null   object\n",
      " 8   health    2592 non-null   object\n",
      "dtypes: int64(1), object(8)\n",
      "memory usage: 182.4+ KB\n"
     ]
    }
   ],
   "source": [
    "test_set.info()"
   ]
  },
  {
   "cell_type": "code",
   "execution_count": 7,
   "metadata": {},
   "outputs": [],
   "source": [
    "dataset[dataset.isnull().any(axis=1)]    # any null records available?\n",
    "del dataset['ID']\n",
    "del test_set['ID']"
   ]
  },
  {
   "cell_type": "markdown",
   "metadata": {},
   "source": [
    "### Label Encoding"
   ]
  },
  {
   "cell_type": "code",
   "execution_count": 8,
   "metadata": {},
   "outputs": [],
   "source": [
    "label_encoder = preprocessing.LabelEncoder()"
   ]
  },
  {
   "cell_type": "code",
   "execution_count": 9,
   "metadata": {},
   "outputs": [],
   "source": [
    "# Label Encoding for ordinal columns\n",
    "def clean_ordinal(dataset):\n",
    "    columns_ordinal = ['parents', 'has_nurs', 'children', 'housing', 'social', 'health', 'finance']\n",
    "\n",
    "    for column in columns_ordinal:\n",
    "        dataset[column] = label_encoder.fit_transform(dataset[column])\n",
    "    return dataset"
   ]
  },
  {
   "cell_type": "markdown",
   "metadata": {},
   "source": [
    "### One Hot Encoding"
   ]
  },
  {
   "cell_type": "code",
   "execution_count": 10,
   "metadata": {},
   "outputs": [],
   "source": [
    "onehot_encoder = preprocessing.OneHotEncoder(drop='first')"
   ]
  },
  {
   "cell_type": "code",
   "execution_count": 11,
   "metadata": {},
   "outputs": [],
   "source": [
    "# OneHotEncoding for nominal columns\n",
    "def clean_nominal(dataset):\n",
    "    columns_nominal = ['form']\n",
    "\n",
    "    cleaned_dataset = dataset\n",
    "\n",
    "    for column in columns_nominal:\n",
    "        X = onehot_encoder.fit_transform(dataset[column].values.reshape(-1, 1)).toarray()\n",
    "        # create dataframe from encoded data\n",
    "        dataset_onehot = pd.DataFrame(X, columns = [column + '_' + str(i) for i in range(X.shape[1])]) \n",
    "        # update dataset -> cleaned_dataset\n",
    "        cleaned_dataset = pd.concat([dataset_onehot, cleaned_dataset], axis=1)\n",
    "        # remove encoded column from dataset\n",
    "        del cleaned_dataset[column]\n",
    "    return cleaned_dataset"
   ]
  },
  {
   "cell_type": "code",
   "execution_count": 12,
   "metadata": {},
   "outputs": [
    {
     "data": {
      "text/html": [
       "<div>\n",
       "<style scoped>\n",
       "    .dataframe tbody tr th:only-of-type {\n",
       "        vertical-align: middle;\n",
       "    }\n",
       "\n",
       "    .dataframe tbody tr th {\n",
       "        vertical-align: top;\n",
       "    }\n",
       "\n",
       "    .dataframe thead th {\n",
       "        text-align: right;\n",
       "    }\n",
       "</style>\n",
       "<table border=\"1\" class=\"dataframe\">\n",
       "  <thead>\n",
       "    <tr style=\"text-align: right;\">\n",
       "      <th></th>\n",
       "      <th>form_0</th>\n",
       "      <th>form_1</th>\n",
       "      <th>form_2</th>\n",
       "      <th>parents</th>\n",
       "      <th>has_nurs</th>\n",
       "      <th>children</th>\n",
       "      <th>housing</th>\n",
       "      <th>finance</th>\n",
       "      <th>social</th>\n",
       "      <th>health</th>\n",
       "    </tr>\n",
       "  </thead>\n",
       "  <tbody>\n",
       "    <tr>\n",
       "      <th>0</th>\n",
       "      <td>0.0</td>\n",
       "      <td>0.0</td>\n",
       "      <td>0.0</td>\n",
       "      <td>2</td>\n",
       "      <td>3</td>\n",
       "      <td>0</td>\n",
       "      <td>0</td>\n",
       "      <td>0</td>\n",
       "      <td>0</td>\n",
       "      <td>2</td>\n",
       "    </tr>\n",
       "    <tr>\n",
       "      <th>1</th>\n",
       "      <td>0.0</td>\n",
       "      <td>0.0</td>\n",
       "      <td>0.0</td>\n",
       "      <td>2</td>\n",
       "      <td>3</td>\n",
       "      <td>0</td>\n",
       "      <td>0</td>\n",
       "      <td>1</td>\n",
       "      <td>0</td>\n",
       "      <td>1</td>\n",
       "    </tr>\n",
       "    <tr>\n",
       "      <th>2</th>\n",
       "      <td>0.0</td>\n",
       "      <td>0.0</td>\n",
       "      <td>0.0</td>\n",
       "      <td>2</td>\n",
       "      <td>3</td>\n",
       "      <td>0</td>\n",
       "      <td>0</td>\n",
       "      <td>1</td>\n",
       "      <td>1</td>\n",
       "      <td>1</td>\n",
       "    </tr>\n",
       "    <tr>\n",
       "      <th>3</th>\n",
       "      <td>0.0</td>\n",
       "      <td>0.0</td>\n",
       "      <td>0.0</td>\n",
       "      <td>2</td>\n",
       "      <td>3</td>\n",
       "      <td>0</td>\n",
       "      <td>2</td>\n",
       "      <td>0</td>\n",
       "      <td>1</td>\n",
       "      <td>2</td>\n",
       "    </tr>\n",
       "    <tr>\n",
       "      <th>4</th>\n",
       "      <td>0.0</td>\n",
       "      <td>0.0</td>\n",
       "      <td>0.0</td>\n",
       "      <td>2</td>\n",
       "      <td>3</td>\n",
       "      <td>0</td>\n",
       "      <td>2</td>\n",
       "      <td>0</td>\n",
       "      <td>1</td>\n",
       "      <td>1</td>\n",
       "    </tr>\n",
       "  </tbody>\n",
       "</table>\n",
       "</div>"
      ],
      "text/plain": [
       "   form_0  form_1  form_2  parents  has_nurs  children  housing  finance  \\\n",
       "0     0.0     0.0     0.0        2         3         0        0        0   \n",
       "1     0.0     0.0     0.0        2         3         0        0        1   \n",
       "2     0.0     0.0     0.0        2         3         0        0        1   \n",
       "3     0.0     0.0     0.0        2         3         0        2        0   \n",
       "4     0.0     0.0     0.0        2         3         0        2        0   \n",
       "\n",
       "   social  health  \n",
       "0       0       2  \n",
       "1       0       1  \n",
       "2       1       1  \n",
       "3       1       2  \n",
       "4       1       1  "
      ]
     },
     "execution_count": 12,
     "metadata": {},
     "output_type": "execute_result"
    }
   ],
   "source": [
    "# Test set cleaning\n",
    "test_set = clean_ordinal(test_set)\n",
    "cleaned_test_set = clean_nominal(test_set)\n",
    "cleaned_test_set.head()"
   ]
  },
  {
   "cell_type": "code",
   "execution_count": 13,
   "metadata": {},
   "outputs": [
    {
     "data": {
      "text/html": [
       "<div>\n",
       "<style scoped>\n",
       "    .dataframe tbody tr th:only-of-type {\n",
       "        vertical-align: middle;\n",
       "    }\n",
       "\n",
       "    .dataframe tbody tr th {\n",
       "        vertical-align: top;\n",
       "    }\n",
       "\n",
       "    .dataframe thead th {\n",
       "        text-align: right;\n",
       "    }\n",
       "</style>\n",
       "<table border=\"1\" class=\"dataframe\">\n",
       "  <thead>\n",
       "    <tr style=\"text-align: right;\">\n",
       "      <th></th>\n",
       "      <th>form_0</th>\n",
       "      <th>form_1</th>\n",
       "      <th>form_2</th>\n",
       "      <th>parents</th>\n",
       "      <th>has_nurs</th>\n",
       "      <th>children</th>\n",
       "      <th>housing</th>\n",
       "      <th>finance</th>\n",
       "      <th>social</th>\n",
       "      <th>health</th>\n",
       "      <th>app_status</th>\n",
       "    </tr>\n",
       "  </thead>\n",
       "  <tbody>\n",
       "    <tr>\n",
       "      <th>0</th>\n",
       "      <td>0.0</td>\n",
       "      <td>0.0</td>\n",
       "      <td>0.0</td>\n",
       "      <td>2</td>\n",
       "      <td>2</td>\n",
       "      <td>2</td>\n",
       "      <td>1</td>\n",
       "      <td>0</td>\n",
       "      <td>1</td>\n",
       "      <td>0</td>\n",
       "      <td>0</td>\n",
       "    </tr>\n",
       "    <tr>\n",
       "      <th>1</th>\n",
       "      <td>1.0</td>\n",
       "      <td>0.0</td>\n",
       "      <td>0.0</td>\n",
       "      <td>1</td>\n",
       "      <td>4</td>\n",
       "      <td>0</td>\n",
       "      <td>0</td>\n",
       "      <td>1</td>\n",
       "      <td>0</td>\n",
       "      <td>0</td>\n",
       "      <td>0</td>\n",
       "    </tr>\n",
       "    <tr>\n",
       "      <th>2</th>\n",
       "      <td>0.0</td>\n",
       "      <td>0.0</td>\n",
       "      <td>1.0</td>\n",
       "      <td>1</td>\n",
       "      <td>3</td>\n",
       "      <td>0</td>\n",
       "      <td>2</td>\n",
       "      <td>0</td>\n",
       "      <td>2</td>\n",
       "      <td>1</td>\n",
       "      <td>1</td>\n",
       "    </tr>\n",
       "    <tr>\n",
       "      <th>3</th>\n",
       "      <td>0.0</td>\n",
       "      <td>0.0</td>\n",
       "      <td>0.0</td>\n",
       "      <td>0</td>\n",
       "      <td>1</td>\n",
       "      <td>0</td>\n",
       "      <td>0</td>\n",
       "      <td>0</td>\n",
       "      <td>0</td>\n",
       "      <td>2</td>\n",
       "      <td>1</td>\n",
       "    </tr>\n",
       "    <tr>\n",
       "      <th>4</th>\n",
       "      <td>1.0</td>\n",
       "      <td>0.0</td>\n",
       "      <td>0.0</td>\n",
       "      <td>0</td>\n",
       "      <td>2</td>\n",
       "      <td>0</td>\n",
       "      <td>0</td>\n",
       "      <td>0</td>\n",
       "      <td>2</td>\n",
       "      <td>1</td>\n",
       "      <td>1</td>\n",
       "    </tr>\n",
       "  </tbody>\n",
       "</table>\n",
       "</div>"
      ],
      "text/plain": [
       "   form_0  form_1  form_2  parents  has_nurs  children  housing  finance  \\\n",
       "0     0.0     0.0     0.0        2         2         2        1        0   \n",
       "1     1.0     0.0     0.0        1         4         0        0        1   \n",
       "2     0.0     0.0     1.0        1         3         0        2        0   \n",
       "3     0.0     0.0     0.0        0         1         0        0        0   \n",
       "4     1.0     0.0     0.0        0         2         0        0        0   \n",
       "\n",
       "   social  health  app_status  \n",
       "0       1       0           0  \n",
       "1       0       0           0  \n",
       "2       2       1           1  \n",
       "3       0       2           1  \n",
       "4       2       1           1  "
      ]
     },
     "execution_count": 13,
     "metadata": {},
     "output_type": "execute_result"
    }
   ],
   "source": [
    "cleaned_dataset = clean_nominal(clean_ordinal(dataset))\n",
    "cleaned_dataset.head()"
   ]
  },
  {
   "cell_type": "markdown",
   "metadata": {},
   "source": [
    "### Independant dependant var splitting"
   ]
  },
  {
   "cell_type": "code",
   "execution_count": 14,
   "metadata": {},
   "outputs": [],
   "source": [
    "x = cleaned_dataset.iloc[:, 0:-1]\n",
    "y = cleaned_dataset.iloc[:, -1]"
   ]
  },
  {
   "cell_type": "markdown",
   "metadata": {},
   "source": [
    "### Normalizing"
   ]
  },
  {
   "cell_type": "code",
   "execution_count": 15,
   "metadata": {},
   "outputs": [],
   "source": [
    "from sklearn.preprocessing import MinMaxScaler\n",
    "\n",
    "scaler = MinMaxScaler() \n",
    "\n",
    "x = scaler.fit_transform(x)"
   ]
  },
  {
   "cell_type": "markdown",
   "metadata": {},
   "source": [
    "### Test train split"
   ]
  },
  {
   "cell_type": "code",
   "execution_count": 16,
   "metadata": {},
   "outputs": [],
   "source": [
    "# splitting dataset to training and testing set\n",
    "x_train, x_test, y_train, y_test = train_test_split(x, y, test_size=0.3)"
   ]
  },
  {
   "cell_type": "markdown",
   "metadata": {},
   "source": [
    "### Classifier"
   ]
  },
  {
   "cell_type": "code",
   "execution_count": 17,
   "metadata": {},
   "outputs": [
    {
     "data": {
      "text/plain": [
       "(7257, 10)"
      ]
     },
     "execution_count": 17,
     "metadata": {},
     "output_type": "execute_result"
    }
   ],
   "source": [
    "x_train.shape"
   ]
  },
  {
   "cell_type": "code",
   "execution_count": 18,
   "metadata": {},
   "outputs": [],
   "source": [
    "from keras.models import Sequential\n",
    "from keras.layers import Dense, Dropout"
   ]
  },
  {
   "cell_type": "code",
   "execution_count": 19,
   "metadata": {},
   "outputs": [],
   "source": [
    "activation = 'relu'\n",
    "optimizer = 'adam'\n",
    "init = 'uniform'"
   ]
  },
  {
   "cell_type": "code",
   "execution_count": 26,
   "metadata": {},
   "outputs": [],
   "source": [
    "classifier = Sequential()\n",
    "\n",
    "classifier.add(Dense(12, input_dim=10, activation='relu'))\n",
    "classifier.add(Dense(12, input_dim=10, activation='relu'))\n",
    "classifier.add(Dense(1, activation='sigmoid'))\n",
    "# Compile model\n",
    "classifier.compile(loss='binary_crossentropy', optimizer='adam', metrics=['accuracy'])\n",
    "# classifier.add(Dense(12,\n",
    "#                      input_shape=(7, ),\n",
    "#                      kernel_initializer='uniform',\n",
    "#                      activation=activation                       \n",
    "#                     )\n",
    "#               )"
   ]
  },
  {
   "cell_type": "code",
   "execution_count": 27,
   "metadata": {},
   "outputs": [],
   "source": [
    "classifier.compile(loss='binary_crossentropy', optimizer=optimizer, metrics=['accuracy'])"
   ]
  },
  {
   "cell_type": "code",
   "execution_count": 28,
   "metadata": {},
   "outputs": [
    {
     "name": "stdout",
     "output_type": "stream",
     "text": [
      "Model: \"sequential_1\"\n",
      "_________________________________________________________________\n",
      "Layer (type)                 Output Shape              Param #   \n",
      "=================================================================\n",
      "dense_3 (Dense)              (None, 12)                132       \n",
      "_________________________________________________________________\n",
      "dense_4 (Dense)              (None, 12)                156       \n",
      "_________________________________________________________________\n",
      "dense_5 (Dense)              (None, 1)                 13        \n",
      "=================================================================\n",
      "Total params: 301\n",
      "Trainable params: 301\n",
      "Non-trainable params: 0\n",
      "_________________________________________________________________\n"
     ]
    }
   ],
   "source": [
    "classifier.summary()"
   ]
  },
  {
   "cell_type": "code",
   "execution_count": 29,
   "metadata": {},
   "outputs": [
    {
     "name": "stdout",
     "output_type": "stream",
     "text": [
      "Epoch 1/50\n",
      "654/654 [==============================] - 1s 821us/step - loss: 0.6105 - accuracy: 0.6748 - val_loss: 0.4537 - val_accuracy: 0.7658\n",
      "Epoch 2/50\n",
      "654/654 [==============================] - 0s 629us/step - loss: 0.4226 - accuracy: 0.7842 - val_loss: 0.4313 - val_accuracy: 0.7824\n",
      "Epoch 3/50\n",
      "654/654 [==============================] - 0s 623us/step - loss: 0.4004 - accuracy: 0.7955 - val_loss: 0.4208 - val_accuracy: 0.7851\n",
      "Epoch 4/50\n",
      "654/654 [==============================] - 0s 655us/step - loss: 0.3924 - accuracy: 0.7986 - val_loss: 0.4005 - val_accuracy: 0.7948\n",
      "Epoch 5/50\n",
      "654/654 [==============================] - 0s 627us/step - loss: 0.3595 - accuracy: 0.8208 - val_loss: 0.3350 - val_accuracy: 0.8333\n",
      "Epoch 6/50\n",
      "654/654 [==============================] - 0s 626us/step - loss: 0.2919 - accuracy: 0.8663 - val_loss: 0.2866 - val_accuracy: 0.8705\n",
      "Epoch 7/50\n",
      "654/654 [==============================] - 0s 621us/step - loss: 0.2458 - accuracy: 0.8929 - val_loss: 0.2397 - val_accuracy: 0.9008\n",
      "Epoch 8/50\n",
      "654/654 [==============================] - 0s 620us/step - loss: 0.2183 - accuracy: 0.9112 - val_loss: 0.2169 - val_accuracy: 0.9077\n",
      "Epoch 9/50\n",
      "654/654 [==============================] - 0s 632us/step - loss: 0.2022 - accuracy: 0.9157 - val_loss: 0.1942 - val_accuracy: 0.9132\n",
      "Epoch 10/50\n",
      "654/654 [==============================] - 0s 614us/step - loss: 0.1815 - accuracy: 0.9360 - val_loss: 0.1798 - val_accuracy: 0.9325\n",
      "Epoch 11/50\n",
      "654/654 [==============================] - 0s 641us/step - loss: 0.1736 - accuracy: 0.9295 - val_loss: 0.1701 - val_accuracy: 0.9353\n",
      "Epoch 12/50\n",
      "654/654 [==============================] - 0s 640us/step - loss: 0.1547 - accuracy: 0.9430 - val_loss: 0.1613 - val_accuracy: 0.9408\n",
      "Epoch 13/50\n",
      "654/654 [==============================] - 0s 632us/step - loss: 0.1564 - accuracy: 0.9387 - val_loss: 0.1520 - val_accuracy: 0.9449\n",
      "Epoch 14/50\n",
      "654/654 [==============================] - 0s 623us/step - loss: 0.1422 - accuracy: 0.9524 - val_loss: 0.1475 - val_accuracy: 0.9490\n",
      "Epoch 15/50\n",
      "654/654 [==============================] - 0s 620us/step - loss: 0.1479 - accuracy: 0.9498 - val_loss: 0.1524 - val_accuracy: 0.9325\n",
      "Epoch 16/50\n",
      "654/654 [==============================] - 0s 603us/step - loss: 0.1386 - accuracy: 0.9481 - val_loss: 0.1446 - val_accuracy: 0.9435\n",
      "Epoch 17/50\n",
      "654/654 [==============================] - 0s 601us/step - loss: 0.1326 - accuracy: 0.9473 - val_loss: 0.1381 - val_accuracy: 0.9394\n",
      "Epoch 18/50\n",
      "654/654 [==============================] - 0s 640us/step - loss: 0.1361 - accuracy: 0.9491 - val_loss: 0.1393 - val_accuracy: 0.9366\n",
      "Epoch 19/50\n",
      "654/654 [==============================] - 0s 646us/step - loss: 0.1217 - accuracy: 0.9531 - val_loss: 0.1424 - val_accuracy: 0.9394\n",
      "Epoch 20/50\n",
      "654/654 [==============================] - 0s 603us/step - loss: 0.1257 - accuracy: 0.9479 - val_loss: 0.1354 - val_accuracy: 0.9421\n",
      "Epoch 21/50\n",
      "654/654 [==============================] - 0s 588us/step - loss: 0.1254 - accuracy: 0.9519 - val_loss: 0.1310 - val_accuracy: 0.9421\n",
      "Epoch 22/50\n",
      "654/654 [==============================] - 0s 594us/step - loss: 0.1339 - accuracy: 0.9423 - val_loss: 0.1284 - val_accuracy: 0.9463\n",
      "Epoch 23/50\n",
      "654/654 [==============================] - 0s 611us/step - loss: 0.1213 - accuracy: 0.9537 - val_loss: 0.1284 - val_accuracy: 0.9463\n",
      "Epoch 24/50\n",
      "654/654 [==============================] - 0s 611us/step - loss: 0.1183 - accuracy: 0.9525 - val_loss: 0.1294 - val_accuracy: 0.9463\n",
      "Epoch 25/50\n",
      "654/654 [==============================] - 0s 650us/step - loss: 0.1200 - accuracy: 0.9495 - val_loss: 0.1230 - val_accuracy: 0.9366\n",
      "Epoch 26/50\n",
      "654/654 [==============================] - 0s 592us/step - loss: 0.1178 - accuracy: 0.9506 - val_loss: 0.1240 - val_accuracy: 0.9477\n",
      "Epoch 27/50\n",
      "654/654 [==============================] - 0s 594us/step - loss: 0.1107 - accuracy: 0.9532 - val_loss: 0.1187 - val_accuracy: 0.9504\n",
      "Epoch 28/50\n",
      "654/654 [==============================] - 0s 595us/step - loss: 0.1129 - accuracy: 0.9544 - val_loss: 0.1196 - val_accuracy: 0.9463\n",
      "Epoch 29/50\n",
      "654/654 [==============================] - 0s 591us/step - loss: 0.1037 - accuracy: 0.9535 - val_loss: 0.1185 - val_accuracy: 0.9435\n",
      "Epoch 30/50\n",
      "654/654 [==============================] - 0s 594us/step - loss: 0.1099 - accuracy: 0.9534 - val_loss: 0.1151 - val_accuracy: 0.9449\n",
      "Epoch 31/50\n",
      "654/654 [==============================] - 0s 598us/step - loss: 0.1038 - accuracy: 0.9545 - val_loss: 0.1216 - val_accuracy: 0.9504\n",
      "Epoch 32/50\n",
      "654/654 [==============================] - 0s 595us/step - loss: 0.0959 - accuracy: 0.9594 - val_loss: 0.1212 - val_accuracy: 0.9421\n",
      "Epoch 33/50\n",
      "654/654 [==============================] - 0s 588us/step - loss: 0.1056 - accuracy: 0.9553 - val_loss: 0.1225 - val_accuracy: 0.9366\n",
      "Epoch 34/50\n",
      "654/654 [==============================] - 0s 617us/step - loss: 0.0989 - accuracy: 0.9551 - val_loss: 0.1165 - val_accuracy: 0.9490\n",
      "Epoch 35/50\n",
      "654/654 [==============================] - 0s 630us/step - loss: 0.0929 - accuracy: 0.9614 - val_loss: 0.1165 - val_accuracy: 0.9504\n",
      "Epoch 36/50\n",
      "654/654 [==============================] - 0s 728us/step - loss: 0.0970 - accuracy: 0.9565 - val_loss: 0.1109 - val_accuracy: 0.9408\n",
      "Epoch 37/50\n",
      "654/654 [==============================] - 0s 655us/step - loss: 0.0925 - accuracy: 0.9585 - val_loss: 0.1141 - val_accuracy: 0.9477\n",
      "Epoch 38/50\n",
      "654/654 [==============================] - 0s 649us/step - loss: 0.1004 - accuracy: 0.9548 - val_loss: 0.1072 - val_accuracy: 0.9449\n",
      "Epoch 39/50\n",
      "654/654 [==============================] - 0s 638us/step - loss: 0.0976 - accuracy: 0.9563 - val_loss: 0.1140 - val_accuracy: 0.9545\n",
      "Epoch 40/50\n",
      "654/654 [==============================] - 0s 598us/step - loss: 0.0891 - accuracy: 0.9597 - val_loss: 0.1096 - val_accuracy: 0.9394\n",
      "Epoch 41/50\n",
      "654/654 [==============================] - 0s 595us/step - loss: 0.0990 - accuracy: 0.9532 - val_loss: 0.1055 - val_accuracy: 0.9463\n",
      "Epoch 42/50\n",
      "654/654 [==============================] - 0s 588us/step - loss: 0.0980 - accuracy: 0.9557 - val_loss: 0.1048 - val_accuracy: 0.9477\n",
      "Epoch 43/50\n",
      "654/654 [==============================] - 0s 618us/step - loss: 0.0885 - accuracy: 0.9598 - val_loss: 0.1148 - val_accuracy: 0.9532\n",
      "Epoch 44/50\n",
      "654/654 [==============================] - 0s 652us/step - loss: 0.0949 - accuracy: 0.9564 - val_loss: 0.1092 - val_accuracy: 0.9449\n",
      "Epoch 45/50\n",
      "654/654 [==============================] - 0s 629us/step - loss: 0.0907 - accuracy: 0.9601 - val_loss: 0.1132 - val_accuracy: 0.9545\n",
      "Epoch 46/50\n",
      "654/654 [==============================] - 0s 612us/step - loss: 0.0833 - accuracy: 0.9641 - val_loss: 0.1082 - val_accuracy: 0.9545\n",
      "Epoch 47/50\n",
      "654/654 [==============================] - 0s 606us/step - loss: 0.0929 - accuracy: 0.9558 - val_loss: 0.1084 - val_accuracy: 0.9518\n",
      "Epoch 48/50\n",
      "654/654 [==============================] - 0s 658us/step - loss: 0.0923 - accuracy: 0.9560 - val_loss: 0.1069 - val_accuracy: 0.9532\n",
      "Epoch 49/50\n",
      "654/654 [==============================] - 0s 653us/step - loss: 0.0919 - accuracy: 0.9586 - val_loss: 0.1009 - val_accuracy: 0.9449\n",
      "Epoch 50/50\n",
      "654/654 [==============================] - 0s 615us/step - loss: 0.0817 - accuracy: 0.9632 - val_loss: 0.1037 - val_accuracy: 0.9477\n"
     ]
    }
   ],
   "source": [
    "history = classifier.fit(x_train, y_train, batch_size=10, epochs=50, validation_split=0.1, verbose = 1, shuffle=True )"
   ]
  },
  {
   "cell_type": "code",
   "execution_count": 30,
   "metadata": {},
   "outputs": [
    {
     "data": {
      "image/png": "[encoded data removed]",
      "text/plain": [
       "<Figure size 432x288 with 1 Axes>"
      ]
     },
     "metadata": {
      "needs_background": "light"
     },
     "output_type": "display_data"
    }
   ],
   "source": [
    "plt.plot(history.history['accuracy'])\n",
    "plt.plot(history.history['val_accuracy'])\n",
    "plt.title('model accuracy')\n",
    "plt.ylabel('accuracy')\n",
    "plt.xlabel('epoch')\n",
    "plt.legend(['train', 'test'], loc='lower right')\n",
    "plt.show()"
   ]
  },
  {
   "cell_type": "code",
   "execution_count": 31,
   "metadata": {},
   "outputs": [
    {
     "data": {
      "image/png": "[encoded data removed]",
      "text/plain": [
       "<Figure size 432x288 with 1 Axes>"
      ]
     },
     "metadata": {
      "needs_background": "light"
     },
     "output_type": "display_data"
    }
   ],
   "source": [
    "plt.plot(history.history['loss'])\n",
    "plt.plot(history.history['val_loss'])\n",
    "plt.title('model loss')\n",
    "plt.ylabel('loss')\n",
    "plt.xlabel('epoch')\n",
    "plt.legend(['train', 'test'], loc='upper right')\n",
    "plt.show()"
   ]
  },
  {
   "cell_type": "code",
   "execution_count": null,
   "metadata": {},
   "outputs": [],
   "source": []
  },
  {
   "cell_type": "code",
   "execution_count": 32,
   "metadata": {
    "scrolled": true
   },
   "outputs": [
    {
     "name": "stdout",
     "output_type": "stream",
     "text": [
      "Accuracy 0.9453551912568307\n"
     ]
    }
   ],
   "source": [
    "from sklearn import metrics\n",
    "y_pred = (classifier.predict(x_test) > 0.5)\n",
    "\n",
    "print('Accuracy', metrics.accuracy_score(y_test, y_pred))\n",
    "# # for tanh, sigmoid, binarycrossentropy -> 96.88%\n",
    "# loss, accuracy = classifier.evaluate(x_test,y_test)"
   ]
  },
  {
   "cell_type": "code",
   "execution_count": 33,
   "metadata": {},
   "outputs": [],
   "source": [
    "# epoch 50\n",
    "# act = tanh -> init = uniform |optimizer = adam  -> Accuracy 0.9697846351655416 -> cm(30, 64) -> f1 = 97\n",
    "# act = tanh -> init = uniform |optimizer = nadam  -> Accuracy 0.9588556734169077 -> cm(1, 127) -> f1 = 96\n",
    "## epoch 50\n",
    "# act = relu -> init =uniform | optimizer = adam -> Accuracy 0.973963355834137 -> cm(14, 67) -> f1 = 97 ***\n",
    "# act = relu -> init =uniform | optimizer = nadam -> Accuracy 0.9713918354226937 -> cm(58, 31) -> f1 = 97 ***\n",
    "# act = relu -> init =he_uniform | optimizer = adam -> Accuracy 0.9697846351655416 -> cm(39, 55) -> f1 = 97\n",
    "###\n",
    "# n = 15\n",
    "# act = softsign -> init =uniform | optimizer = nadam ->Accuracy 0.9681774349083896 -> cm(42, 57) -> f1 = 97\n",
    "# act = softsign -> init =he_uniform | optimizer = nadam ->Accuracy 0.9704275152684024 -> cm(47, 45) -> f1 = 97\n",
    "# n = 22\n",
    "# act = softsign -> init =he_uniform | optimizer = nadam ->Accuracy 0.9707489553198329 -> cm(28, 63) -> f1 = 97 \n",
    "# same with epoch 100, batch 40\n"
   ]
  },
  {
   "cell_type": "markdown",
   "metadata": {},
   "source": [
    "### Confusion matrix"
   ]
  },
  {
   "cell_type": "code",
   "execution_count": 34,
   "metadata": {},
   "outputs": [
    {
     "data": {
      "text/plain": [
       "array([[False],\n",
       "       [ True],\n",
       "       [False],\n",
       "       ...,\n",
       "       [ True],\n",
       "       [ True],\n",
       "       [ True]])"
      ]
     },
     "execution_count": 34,
     "metadata": {},
     "output_type": "execute_result"
    }
   ],
   "source": [
    "from sklearn.metrics import confusion_matrix\n",
    "\n",
    "predict_class = classifier.predict(x_test)\n",
    "predict_class = (y_pred > 0.5)\n",
    "predict_class"
   ]
  },
  {
   "cell_type": "code",
   "execution_count": 35,
   "metadata": {
    "scrolled": true
   },
   "outputs": [
    {
     "data": {
      "text/plain": [
       "array([[1932,  108],\n",
       "       [  62, 1009]], dtype=int64)"
      ]
     },
     "execution_count": 35,
     "metadata": {},
     "output_type": "execute_result"
    }
   ],
   "source": [
    "cm = confusion_matrix(y_test, y_pred)\n",
    "cm"
   ]
  },
  {
   "cell_type": "markdown",
   "metadata": {},
   "source": [
    "### Classification report"
   ]
  },
  {
   "cell_type": "code",
   "execution_count": 75,
   "metadata": {},
   "outputs": [
    {
     "name": "stdout",
     "output_type": "stream",
     "text": [
      "              precision    recall  f1-score   support\n",
      "\n",
      "           0       1.00      1.00      1.00      2005\n",
      "           1       1.00      1.00      1.00      1106\n",
      "\n",
      "    accuracy                           1.00      3111\n",
      "   macro avg       1.00      1.00      1.00      3111\n",
      "weighted avg       1.00      1.00      1.00      3111\n",
      "\n"
     ]
    }
   ],
   "source": [
    "from sklearn.metrics import classification_report\n",
    "print(classification_report(y_test, predict_class))"
   ]
  },
  {
   "cell_type": "markdown",
   "metadata": {},
   "source": [
    "### ROC-AUC"
   ]
  },
  {
   "cell_type": "code",
   "execution_count": 653,
   "metadata": {},
   "outputs": [
    {
     "name": "stderr",
     "output_type": "stream",
     "text": [
      "C:\\Users\\ACER\\anaconda3\\lib\\site-packages\\tensorflow\\python\\keras\\engine\\sequential.py:425: UserWarning: `model.predict_proba()` is deprecated and will be removed after 2021-01-01. Please use `model.predict()` instead.\n",
      "  warnings.warn('`model.predict_proba()` is deprecated and '\n"
     ]
    }
   ],
   "source": [
    "y_pred_proba = classifier.predict_proba(x_test)\n",
    "from sklearn.metrics import roc_curve\n",
    "\n",
    "fpr, tpr, thresholds = roc_curve(y_test, y_pred_proba)"
   ]
  },
  {
   "cell_type": "code",
   "execution_count": 654,
   "metadata": {},
   "outputs": [
    {
     "data": {
      "image/png": "[encoded data removed]",
      "text/plain": [
       "<Figure size 432x288 with 1 Axes>"
      ]
     },
     "metadata": {
      "needs_background": "light"
     },
     "output_type": "display_data"
    }
   ],
   "source": [
    "import matplotlib.pyplot as plt\n",
    "\n",
    "plt.plot([0,1],[0,1],'k--')\n",
    "plt.plot(fpr,tpr, label='Knn')\n",
    "plt.xlabel('fpr')\n",
    "plt.ylabel('tpr')\n",
    "plt.title('ANN ROC curve')\n",
    "plt.show()"
   ]
  },
  {
   "cell_type": "code",
   "execution_count": 655,
   "metadata": {},
   "outputs": [
    {
     "data": {
      "text/plain": [
       "0.9942274439377794"
      ]
     },
     "execution_count": 655,
     "metadata": {},
     "output_type": "execute_result"
    }
   ],
   "source": [
    "from sklearn.metrics import roc_auc_score\n",
    "roc_auc_score(y_test,y_pred_proba)"
   ]
  },
  {
   "cell_type": "markdown",
   "metadata": {},
   "source": [
    "### New prediction"
   ]
  },
  {
   "cell_type": "code",
   "execution_count": 472,
   "metadata": {},
   "outputs": [],
   "source": [
    "cleaned_test_set = scaler.fit_transform(cleaned_test_set)"
   ]
  },
  {
   "cell_type": "code",
   "execution_count": 473,
   "metadata": {},
   "outputs": [
    {
     "data": {
      "text/plain": [
       "(2592, 7)"
      ]
     },
     "execution_count": 473,
     "metadata": {},
     "output_type": "execute_result"
    }
   ],
   "source": [
    "cleaned_test_set.shape"
   ]
  },
  {
   "cell_type": "code",
   "execution_count": 656,
   "metadata": {},
   "outputs": [],
   "source": [
    "predict = classifier.predict(cleaned_test_set)\n",
    "\n",
    "arr = np.argmax(predict, axis=1)\n",
    "arr = np.array(arr.tolist())\n",
    "np.savetxt(\"predicted/pred_ann_godmn.csv\", np.dstack((np.arange(1, arr.size+1),arr))[0],\"%d,%d\",header=\"ID,app_status\")"
   ]
  },
  {
   "cell_type": "markdown",
   "metadata": {},
   "source": [
    "# Hyper parameter tuning"
   ]
  },
  {
   "cell_type": "code",
   "execution_count": 37,
   "metadata": {},
   "outputs": [],
   "source": [
    "from keras.wrappers.scikit_learn import KerasClassifier\n",
    "from sklearn.model_selection import GridSearchCV\n",
    "from keras.optimizers import Adam"
   ]
  },
  {
   "cell_type": "markdown",
   "metadata": {},
   "source": [
    "##### Optimizer"
   ]
  },
  {
   "cell_type": "code",
   "execution_count": 377,
   "metadata": {},
   "outputs": [],
   "source": [
    "def create_model(optimizer='adam'):\n",
    "    classifier = Sequential()\n",
    "    \n",
    "    classifier.add(Dense(22, input_dim=7, activation='softsign', kernel_initializer='he_uniform'))\n",
    "    classifier.add(Dense(22, input_dim=7, activation='softsign', kernel_initializer='he_uniform'))\n",
    "    classifier.add(Dense(1, activation='sigmoid'))\n",
    "    # Compile model\n",
    "    classifier.compile(loss='binary_crossentropy', optimizer=optimizer, metrics=['accuracy'])\n",
    "    return classifier"
   ]
  },
  {
   "cell_type": "code",
   "execution_count": 378,
   "metadata": {},
   "outputs": [],
   "source": [
    "model = KerasClassifier(build_fn=create_model, epochs=100, batch_size=10, verbose=0)"
   ]
  },
  {
   "cell_type": "code",
   "execution_count": 379,
   "metadata": {},
   "outputs": [],
   "source": [
    "optimizer = ['SGD', 'RMSprop', 'Adagrad', 'Adadelta', 'Adam', 'Adamax', 'Nadam']"
   ]
  },
  {
   "cell_type": "code",
   "execution_count": 380,
   "metadata": {},
   "outputs": [
    {
     "data": {
      "text/plain": [
       "{'optimizer': ['SGD',\n",
       "  'RMSprop',\n",
       "  'Adagrad',\n",
       "  'Adadelta',\n",
       "  'Adam',\n",
       "  'Adamax',\n",
       "  'Nadam']}"
      ]
     },
     "execution_count": 380,
     "metadata": {},
     "output_type": "execute_result"
    }
   ],
   "source": [
    "param_grid = dict(optimizer=optimizer)\n",
    "param_grid"
   ]
  },
  {
   "cell_type": "code",
   "execution_count": 381,
   "metadata": {},
   "outputs": [],
   "source": [
    "grid = GridSearchCV(estimator=model, param_grid=param_grid, n_jobs=-1, cv=3)"
   ]
  },
  {
   "cell_type": "code",
   "execution_count": 382,
   "metadata": {},
   "outputs": [],
   "source": [
    "grid_result = grid.fit(x, y)"
   ]
  },
  {
   "cell_type": "markdown",
   "metadata": {},
   "source": [
    "Best score for optimizer"
   ]
  },
  {
   "cell_type": "code",
   "execution_count": 383,
   "metadata": {},
   "outputs": [
    {
     "name": "stdout",
     "output_type": "stream",
     "text": [
      "Best: 0.970486 using {'optimizer': 'Adam'}\n"
     ]
    }
   ],
   "source": [
    "print(\"Best: %f using %s\" % (grid_result.best_score_, grid_result.best_params_))"
   ]
  },
  {
   "cell_type": "code",
   "execution_count": 384,
   "metadata": {},
   "outputs": [],
   "source": [
    "means = grid_result.cv_results_['mean_test_score']"
   ]
  },
  {
   "cell_type": "code",
   "execution_count": 385,
   "metadata": {},
   "outputs": [],
   "source": [
    "stds = grid_result.cv_results_['std_test_score']"
   ]
  },
  {
   "cell_type": "code",
   "execution_count": 386,
   "metadata": {},
   "outputs": [],
   "source": [
    "params = grid_result.cv_results_['params']"
   ]
  },
  {
   "cell_type": "code",
   "execution_count": 387,
   "metadata": {},
   "outputs": [
    {
     "name": "stdout",
     "output_type": "stream",
     "text": [
      "0.965181 (0.005047) with: {'optimizer': 'SGD'}\n",
      "0.967207 (0.003225) with: {'optimizer': 'RMSprop'}\n",
      "0.781539 (0.013020) with: {'optimizer': 'Adagrad'}\n",
      "0.677180 (0.019230) with: {'optimizer': 'Adadelta'}\n",
      "0.970486 (0.003974) with: {'optimizer': 'Adam'}\n",
      "0.963156 (0.001573) with: {'optimizer': 'Adamax'}\n",
      "0.969329 (0.003713) with: {'optimizer': 'Nadam'}\n"
     ]
    }
   ],
   "source": [
    "for mean, stdev, param in zip(means, stds, params):\n",
    "    print(\"%f (%f) with: %r\" % (mean, stdev, param))"
   ]
  },
  {
   "cell_type": "code",
   "execution_count": 49,
   "metadata": {},
   "outputs": [
    {
     "data": {
      "text/plain": [
       "array([0.95351082, 0.96315589, 0.95669369, 0.9675926 , 0.96161266,\n",
       "       0.96826774, 0.96836422])"
      ]
     },
     "execution_count": 49,
     "metadata": {},
     "output_type": "execute_result"
    }
   ],
   "source": [
    "means"
   ]
  },
  {
   "cell_type": "code",
   "execution_count": 50,
   "metadata": {},
   "outputs": [
    {
     "data": {
      "text/plain": [
       "array([0.96076389, 0.95929784, 0.96165123, 0.95979939, 0.96157407,\n",
       "       0.95677084, 0.96109182])"
      ]
     },
     "execution_count": 50,
     "metadata": {},
     "output_type": "execute_result"
    }
   ],
   "source": [
    "results = []\n",
    "for i in range(3):\n",
    "    grid_result = grid.fit(x, y)\n",
    "    print(\"Best: %f using %s\" % (grid_result.best_score_, grid_result.best_params_))\n",
    "    means = grid_result.cv_results_['mean_test_score']\n",
    "    results.append(means)\n",
    "    print(i)\n",
    "reaults = np.array(results)\n",
    "np.mean(results, axis=0)"
   ]
  },
  {
   "cell_type": "code",
   "execution_count": 51,
   "metadata": {},
   "outputs": [],
   "source": [
    "results = np.array(results)"
   ]
  },
  {
   "cell_type": "code",
   "execution_count": 52,
   "metadata": {},
   "outputs": [
    {
     "data": {
      "text/plain": [
       "array([0.96076389, 0.95929784, 0.96165123, 0.95979939, 0.96157407,\n",
       "       0.95677084, 0.96109182])"
      ]
     },
     "execution_count": 52,
     "metadata": {},
     "output_type": "execute_result"
    }
   ],
   "source": [
    "np.mean(results, axis=0)"
   ]
  },
  {
   "cell_type": "markdown",
   "metadata": {},
   "source": [
    "###### Batch size and Number of Epochs"
   ]
  },
  {
   "cell_type": "code",
   "execution_count": 407,
   "metadata": {},
   "outputs": [],
   "source": [
    "def create_model():\n",
    "    classifier = Sequential()\n",
    "    \n",
    "    classifier.add(Dense(22, input_dim=7, activation='softsign'))\n",
    "    classifier.add(Dense(22, input_dim=7, activation='softsign'))\n",
    "    classifier.add(Dense(1, activation='sigmoid'))\n",
    "    # Compile model\n",
    "    classifier.compile(loss='binary_crossentropy', optimizer='nadam', metrics=['accuracy'])\n",
    "    \n",
    "    return classifier"
   ]
  },
  {
   "cell_type": "code",
   "execution_count": 408,
   "metadata": {},
   "outputs": [],
   "source": [
    "model = KerasClassifier(build_fn=create_model, verbose=0)"
   ]
  },
  {
   "cell_type": "code",
   "execution_count": 409,
   "metadata": {},
   "outputs": [],
   "source": [
    "# define the grid search parameters\n",
    "batch_size = [10, 20, 40, 60, 80, 100]\n",
    "epochs = [10, 50, 100]"
   ]
  },
  {
   "cell_type": "code",
   "execution_count": 410,
   "metadata": {},
   "outputs": [],
   "source": [
    "param_grid = dict(batch_size=batch_size, epochs=epochs)"
   ]
  },
  {
   "cell_type": "code",
   "execution_count": 411,
   "metadata": {},
   "outputs": [],
   "source": [
    "grid = GridSearchCV(estimator=model, param_grid=param_grid, n_jobs=-1, cv=3)"
   ]
  },
  {
   "cell_type": "code",
   "execution_count": 412,
   "metadata": {},
   "outputs": [],
   "source": [
    "grid_result = grid.fit(x, y)"
   ]
  },
  {
   "cell_type": "markdown",
   "metadata": {},
   "source": [
    "Best score for Batch Size and Epoch"
   ]
  },
  {
   "cell_type": "code",
   "execution_count": 413,
   "metadata": {},
   "outputs": [
    {
     "name": "stdout",
     "output_type": "stream",
     "text": [
      "Best: 0.969811 using {'batch_size': 40, 'epochs': 100}\n"
     ]
    }
   ],
   "source": [
    "print(\"Best: %f using %s\" % (grid_result.best_score_, grid_result.best_params_))"
   ]
  },
  {
   "cell_type": "code",
   "execution_count": 414,
   "metadata": {},
   "outputs": [],
   "source": [
    "means, stds, params = grid_result.cv_results_['mean_test_score'], grid_result.cv_results_['std_test_score'], grid_result.cv_results_['params']"
   ]
  },
  {
   "cell_type": "code",
   "execution_count": 61,
   "metadata": {},
   "outputs": [
    {
     "name": "stdout",
     "output_type": "stream",
     "text": [
      "0.919560 (0.014417) with: {'batch_size': 10, 'epochs': 10}\n",
      "0.964024 (0.003483) with: {'batch_size': 10, 'epochs': 50}\n",
      "0.939815 (0.014371) with: {'batch_size': 10, 'epochs': 100}\n",
      "0.895448 (0.019604) with: {'batch_size': 20, 'epochs': 10}\n",
      "0.949074 (0.012764) with: {'batch_size': 20, 'epochs': 50}\n",
      "0.959298 (0.013172) with: {'batch_size': 20, 'epochs': 100}\n",
      "0.866609 (0.023776) with: {'batch_size': 40, 'epochs': 10}\n",
      "0.936053 (0.001437) with: {'batch_size': 40, 'epochs': 50}\n",
      "0.948110 (0.013577) with: {'batch_size': 40, 'epochs': 100}\n",
      "0.872010 (0.010337) with: {'batch_size': 60, 'epochs': 10}\n",
      "0.935667 (0.010174) with: {'batch_size': 60, 'epochs': 50}\n",
      "0.954475 (0.012277) with: {'batch_size': 60, 'epochs': 100}\n",
      "0.837963 (0.025869) with: {'batch_size': 80, 'epochs': 10}\n",
      "0.930556 (0.012297) with: {'batch_size': 80, 'epochs': 50}\n",
      "0.958044 (0.009424) with: {'batch_size': 80, 'epochs': 100}\n",
      "0.852913 (0.010047) with: {'batch_size': 100, 'epochs': 10}\n",
      "0.943383 (0.009096) with: {'batch_size': 100, 'epochs': 50}\n",
      "0.953318 (0.016087) with: {'batch_size': 100, 'epochs': 100}\n"
     ]
    }
   ],
   "source": [
    "for mean, stdev, param in zip(means, stds, params):\n",
    "    print(\"%f (%f) with: %r\" % (mean, stdev, param))"
   ]
  },
  {
   "cell_type": "markdown",
   "metadata": {},
   "source": [
    "##### Weight Tuning"
   ]
  },
  {
   "cell_type": "code",
   "execution_count": 276,
   "metadata": {},
   "outputs": [],
   "source": [
    "def create_model(init_mode='uniform'):\n",
    "    classifier = Sequential()\n",
    "    \n",
    "    classifier.add(Dense(15, input_dim=7, activation='relu'))\n",
    "    classifier.add(Dense(15, input_dim=7, activation='relu'))\n",
    "    classifier.add(Dense(1, activation='sigmoid'))\n",
    "    # Compile model\n",
    "    classifier.compile(loss='binary_crossentropy', optimizer='adam', metrics=['accuracy'])\n",
    "    \n",
    "    return classifier"
   ]
  },
  {
   "cell_type": "code",
   "execution_count": 277,
   "metadata": {},
   "outputs": [],
   "source": [
    "model = KerasClassifier(build_fn=create_model, epochs=100, batch_size=10, verbose=0)"
   ]
  },
  {
   "cell_type": "code",
   "execution_count": 278,
   "metadata": {},
   "outputs": [],
   "source": [
    "init_mode = ['uniform', 'lecun_uniform', 'normal', 'zero', 'glorot_normal', 'glorot_uniform', 'he_normal', 'he_uniform']"
   ]
  },
  {
   "cell_type": "code",
   "execution_count": 279,
   "metadata": {},
   "outputs": [],
   "source": [
    "param_grid = dict(init_mode=init_mode)"
   ]
  },
  {
   "cell_type": "code",
   "execution_count": 280,
   "metadata": {},
   "outputs": [],
   "source": [
    "grid = GridSearchCV(estimator=model, param_grid=param_grid, n_jobs=-1, cv=3)"
   ]
  },
  {
   "cell_type": "code",
   "execution_count": 281,
   "metadata": {},
   "outputs": [],
   "source": [
    "grid_result = grid.fit(x, y)"
   ]
  },
  {
   "cell_type": "markdown",
   "metadata": {},
   "source": [
    "Best Weights init"
   ]
  },
  {
   "cell_type": "code",
   "execution_count": 282,
   "metadata": {},
   "outputs": [
    {
     "name": "stdout",
     "output_type": "stream",
     "text": [
      "Best: 0.968364 using {'init_mode': 'he_uniform'}\n"
     ]
    }
   ],
   "source": [
    "print(\"Best: %f using %s\" % (grid_result.best_score_, grid_result.best_params_))"
   ]
  },
  {
   "cell_type": "code",
   "execution_count": 283,
   "metadata": {},
   "outputs": [],
   "source": [
    "means, stds, params = grid_result.cv_results_['mean_test_score'], grid_result.cv_results_['std_test_score'], grid_result.cv_results_['params']"
   ]
  },
  {
   "cell_type": "code",
   "execution_count": 284,
   "metadata": {},
   "outputs": [
    {
     "name": "stdout",
     "output_type": "stream",
     "text": [
      "0.967785 (0.004662) with: {'init_mode': 'uniform'}\n",
      "0.965567 (0.002500) with: {'init_mode': 'lecun_uniform'}\n",
      "0.966917 (0.002848) with: {'init_mode': 'normal'}\n",
      "0.958140 (0.009756) with: {'init_mode': 'zero'}\n",
      "0.966146 (0.003690) with: {'init_mode': 'glorot_normal'}\n",
      "0.964024 (0.001500) with: {'init_mode': 'glorot_uniform'}\n",
      "0.968364 (0.005080) with: {'init_mode': 'he_normal'}\n",
      "0.968364 (0.001384) with: {'init_mode': 'he_uniform'}\n"
     ]
    }
   ],
   "source": [
    "for mean, stdev, param in zip(means, stds, params):\n",
    "    print(\"%f (%f) with: %r\" % (mean, stdev, param))"
   ]
  },
  {
   "cell_type": "markdown",
   "metadata": {},
   "source": [
    "##### Activation function"
   ]
  },
  {
   "cell_type": "code",
   "execution_count": 75,
   "metadata": {},
   "outputs": [],
   "source": [
    "def create_model(activation='relu'):\n",
    "    classifier = Sequential()\n",
    "    \n",
    "    classifier.add(Dense(12, input_dim=7, activation=activation))\n",
    "    classifier.add(Dense(12, input_dim=7, activation=activation))\n",
    "    classifier.add(Dense(1, activation='sigmoid'))\n",
    "    # Compile model\n",
    "    classifier.compile(loss='binary_crossentropy', optimizer='adam', metrics=['accuracy'])\n",
    "    \n",
    "    return classifier"
   ]
  },
  {
   "cell_type": "code",
   "execution_count": 76,
   "metadata": {},
   "outputs": [],
   "source": [
    "model = KerasClassifier(build_fn=create_model, epochs=100, batch_size=10, verbose=0)"
   ]
  },
  {
   "cell_type": "code",
   "execution_count": 77,
   "metadata": {},
   "outputs": [],
   "source": [
    "activation = ['softmax', 'softplus', 'softsign', 'relu', 'tanh', 'sigmoid', 'hard_sigmoid', 'linear']"
   ]
  },
  {
   "cell_type": "code",
   "execution_count": 78,
   "metadata": {},
   "outputs": [],
   "source": [
    "param_grid = dict(activation=activation)"
   ]
  },
  {
   "cell_type": "code",
   "execution_count": 79,
   "metadata": {},
   "outputs": [],
   "source": [
    "grid = GridSearchCV(estimator=model, param_grid=param_grid, n_jobs=-1, cv=3)"
   ]
  },
  {
   "cell_type": "code",
   "execution_count": 80,
   "metadata": {},
   "outputs": [],
   "source": [
    "grid_result = grid.fit(x, y)"
   ]
  },
  {
   "cell_type": "markdown",
   "metadata": {},
   "source": [
    " Best Activation Func"
   ]
  },
  {
   "cell_type": "code",
   "execution_count": 81,
   "metadata": {},
   "outputs": [
    {
     "name": "stdout",
     "output_type": "stream",
     "text": [
      "Best: 0.968846 using {'activation': 'softsign'}\n"
     ]
    }
   ],
   "source": [
    "print(\"Best: %f using %s\" % (grid_result.best_score_, grid_result.best_params_))"
   ]
  },
  {
   "cell_type": "code",
   "execution_count": 82,
   "metadata": {},
   "outputs": [],
   "source": [
    "means, stds, params = grid_result.cv_results_['mean_test_score'], grid_result.cv_results_['std_test_score'], grid_result.cv_results_['params']"
   ]
  },
  {
   "cell_type": "code",
   "execution_count": 83,
   "metadata": {},
   "outputs": [
    {
     "name": "stdout",
     "output_type": "stream",
     "text": [
      "0.931038 (0.006323) with: {'activation': 'softmax'}\n",
      "0.950231 (0.003071) with: {'activation': 'softplus'}\n",
      "0.968846 (0.003738) with: {'activation': 'softsign'}\n",
      "0.967496 (0.003377) with: {'activation': 'relu'}\n",
      "0.967978 (0.004261) with: {'activation': 'tanh'}\n",
      "0.934124 (0.007635) with: {'activation': 'sigmoid'}\n",
      "0.926022 (0.003663) with: {'activation': 'hard_sigmoid'}\n",
      "0.781925 (0.006750) with: {'activation': 'linear'}\n"
     ]
    }
   ],
   "source": [
    "for mean, stdev, param in zip(means, stds, params):\n",
    "    print(\"%f (%f) with: %r\" % (mean, stdev, param))"
   ]
  },
  {
   "cell_type": "markdown",
   "metadata": {},
   "source": [
    "##### Number of Neurons"
   ]
  },
  {
   "cell_type": "code",
   "execution_count": 361,
   "metadata": {},
   "outputs": [],
   "source": [
    "def create_model(neurons=1):\n",
    "    classifier = Sequential()\n",
    "    \n",
    "    classifier.add(Dense(neurons, input_dim=7, activation='softsign', kernel_initializer='he_uniform'))\n",
    "    classifier.add(Dense(1, activation='sigmoid', kernel_initializer='he_uniform'))\n",
    "    # Compile model\n",
    "    classifier.compile(loss='binary_crossentropy', optimizer='nadam', metrics=['accuracy'])\n",
    "    \n",
    "    return classifier"
   ]
  },
  {
   "cell_type": "code",
   "execution_count": 362,
   "metadata": {},
   "outputs": [],
   "source": [
    "model = KerasClassifier(build_fn=create_model, epochs=100, batch_size=10, verbose=0)"
   ]
  },
  {
   "cell_type": "code",
   "execution_count": 364,
   "metadata": {},
   "outputs": [],
   "source": [
    "neurons = [i for i in range(10, 25)]"
   ]
  },
  {
   "cell_type": "code",
   "execution_count": 365,
   "metadata": {},
   "outputs": [],
   "source": [
    "param_grid = dict(neurons=neurons)"
   ]
  },
  {
   "cell_type": "code",
   "execution_count": 366,
   "metadata": {},
   "outputs": [],
   "source": [
    "grid = GridSearchCV(estimator=model, param_grid=param_grid, n_jobs=-1, cv=3)"
   ]
  },
  {
   "cell_type": "code",
   "execution_count": 367,
   "metadata": {},
   "outputs": [],
   "source": [
    "grid_result = grid.fit(x, y)"
   ]
  },
  {
   "cell_type": "markdown",
   "metadata": {},
   "source": [
    "Best Number of Neurons"
   ]
  },
  {
   "cell_type": "code",
   "execution_count": 369,
   "metadata": {},
   "outputs": [
    {
     "name": "stdout",
     "output_type": "stream",
     "text": [
      "Best: 0.970293 using {'neurons': 22}\n"
     ]
    }
   ],
   "source": [
    "print(\"Best: %f using %s\" % (grid_result.best_score_, grid_result.best_params_))"
   ]
  },
  {
   "cell_type": "code",
   "execution_count": 370,
   "metadata": {},
   "outputs": [],
   "source": [
    "means, stds, params = grid_result.cv_results_['mean_test_score'], grid_result.cv_results_['std_test_score'], grid_result.cv_results_['params']"
   ]
  },
  {
   "cell_type": "code",
   "execution_count": 371,
   "metadata": {},
   "outputs": [
    {
     "name": "stdout",
     "output_type": "stream",
     "text": [
      "0.958719 (0.008062) with: {'neurons': 10}\n",
      "0.957948 (0.002592) with: {'neurons': 11}\n",
      "0.960552 (0.005769) with: {'neurons': 12}\n",
      "0.964892 (0.004878) with: {'neurons': 13}\n",
      "0.962963 (0.003637) with: {'neurons': 14}\n",
      "0.965374 (0.005827) with: {'neurons': 15}\n",
      "0.965664 (0.005337) with: {'neurons': 16}\n",
      "0.965664 (0.005798) with: {'neurons': 17}\n",
      "0.965664 (0.003259) with: {'neurons': 18}\n",
      "0.966628 (0.004435) with: {'neurons': 19}\n",
      "0.967207 (0.004162) with: {'neurons': 20}\n",
      "0.968943 (0.002425) with: {'neurons': 21}\n",
      "0.970293 (0.004294) with: {'neurons': 22}\n",
      "0.967207 (0.001573) with: {'neurons': 23}\n",
      "0.968750 (0.003690) with: {'neurons': 24}\n"
     ]
    }
   ],
   "source": [
    "for mean, stdev, param in zip(means, stds, params):\n",
    "    print(\"%f (%f) with: %r\" % (mean, stdev, param))"
   ]
  },
  {
   "cell_type": "markdown",
   "metadata": {},
   "source": [
    "##### Drop out"
   ]
  },
  {
   "cell_type": "code",
   "execution_count": 505,
   "metadata": {},
   "outputs": [],
   "source": [
    "from keras.constraints import maxnorm\n",
    "from keras.layers import Dropout\n",
    "\n",
    "def create_model(dropout_rate=0.0, weight_constraint=0):\n",
    "    classifier = Sequential()\n",
    "\n",
    "    classifier.add(Dense(22, input_dim=7, activation='relu', kernel_initializer=init, kernel_constraint=maxnorm(weight_constraint)))\n",
    "    classifier.add(Dropout(dropout_rate))\n",
    "    classifier.add(Dense(22, input_dim=7, activation='relu', kernel_initializer=init, kernel_constraint=maxnorm(weight_constraint)))\n",
    "    classifier.add(Dropout(dropout_rate))\n",
    "    classifier.add(Dense(1, activation='sigmoid', kernel_initializer=init))\n",
    "    # Compile model\n",
    "    classifier.compile(loss='binary_crossentropy', optimizer=optimizer, metrics=['accuracy'])\n",
    "    \n",
    "    return classifier"
   ]
  },
  {
   "cell_type": "code",
   "execution_count": 506,
   "metadata": {},
   "outputs": [],
   "source": [
    "model = KerasClassifier(build_fn=create_model, epochs=100, batch_size=10, verbose=0)"
   ]
  },
  {
   "cell_type": "code",
   "execution_count": 507,
   "metadata": {},
   "outputs": [],
   "source": [
    "weight_constraint = [1, 2, 3, 4, 5]\n",
    "dropout_rate = [0.0, 0.1, 0.2, 0.3, 0.4, 0.5, 0.6, 0.7, 0.8, 0.9]"
   ]
  },
  {
   "cell_type": "code",
   "execution_count": 508,
   "metadata": {},
   "outputs": [],
   "source": [
    "param_grid = dict(dropout_rate=dropout_rate, weight_constraint=weight_constraint)"
   ]
  },
  {
   "cell_type": "code",
   "execution_count": 509,
   "metadata": {},
   "outputs": [],
   "source": [
    "grid = GridSearchCV(estimator=model, param_grid=param_grid, n_jobs=-1, cv=3)"
   ]
  },
  {
   "cell_type": "code",
   "execution_count": 510,
   "metadata": {},
   "outputs": [],
   "source": [
    "grid_result = grid.fit(x, y)"
   ]
  },
  {
   "cell_type": "code",
   "execution_count": 511,
   "metadata": {},
   "outputs": [
    {
     "name": "stdout",
     "output_type": "stream",
     "text": [
      "Best: 0.967400 using {'dropout_rate': 0.0, 'weight_constraint': 2}\n"
     ]
    }
   ],
   "source": [
    "print(\"Best: %f using %s\" % (grid_result.best_score_, grid_result.best_params_))"
   ]
  },
  {
   "cell_type": "code",
   "execution_count": 512,
   "metadata": {},
   "outputs": [],
   "source": [
    "means = grid_result.cv_results_['mean_test_score']\n",
    "stds = grid_result.cv_results_['std_test_score']\n",
    "params = grid_result.cv_results_['params']"
   ]
  },
  {
   "cell_type": "code",
   "execution_count": 513,
   "metadata": {},
   "outputs": [
    {
     "name": "stdout",
     "output_type": "stream",
     "text": [
      "0.961709 (0.011594) with: {'dropout_rate': 0.0, 'weight_constraint': 1}\n",
      "0.967400 (0.005091) with: {'dropout_rate': 0.0, 'weight_constraint': 2}\n",
      "0.946084 (0.017014) with: {'dropout_rate': 0.0, 'weight_constraint': 3}\n",
      "0.943480 (0.015475) with: {'dropout_rate': 0.0, 'weight_constraint': 4}\n",
      "0.940972 (0.019072) with: {'dropout_rate': 0.0, 'weight_constraint': 5}\n",
      "0.937789 (0.005526) with: {'dropout_rate': 0.1, 'weight_constraint': 1}\n",
      "0.932967 (0.003678) with: {'dropout_rate': 0.1, 'weight_constraint': 2}\n",
      "0.946470 (0.008074) with: {'dropout_rate': 0.1, 'weight_constraint': 3}\n",
      "0.945602 (0.003098) with: {'dropout_rate': 0.1, 'weight_constraint': 4}\n",
      "0.951871 (0.005856) with: {'dropout_rate': 0.1, 'weight_constraint': 5}\n",
      "0.947338 (0.009764) with: {'dropout_rate': 0.2, 'weight_constraint': 1}\n",
      "0.948785 (0.002662) with: {'dropout_rate': 0.2, 'weight_constraint': 2}\n",
      "0.949846 (0.014489) with: {'dropout_rate': 0.2, 'weight_constraint': 3}\n",
      "0.946952 (0.008137) with: {'dropout_rate': 0.2, 'weight_constraint': 4}\n",
      "0.938175 (0.005542) with: {'dropout_rate': 0.2, 'weight_constraint': 5}\n",
      "0.936150 (0.008932) with: {'dropout_rate': 0.3, 'weight_constraint': 1}\n",
      "0.936150 (0.007925) with: {'dropout_rate': 0.3, 'weight_constraint': 2}\n",
      "0.933063 (0.003753) with: {'dropout_rate': 0.3, 'weight_constraint': 3}\n",
      "0.937307 (0.005096) with: {'dropout_rate': 0.3, 'weight_constraint': 4}\n",
      "0.935667 (0.005451) with: {'dropout_rate': 0.3, 'weight_constraint': 5}\n",
      "0.931906 (0.011227) with: {'dropout_rate': 0.4, 'weight_constraint': 1}\n",
      "0.933160 (0.011003) with: {'dropout_rate': 0.4, 'weight_constraint': 2}\n",
      "0.935475 (0.007775) with: {'dropout_rate': 0.4, 'weight_constraint': 3}\n",
      "0.929784 (0.003047) with: {'dropout_rate': 0.4, 'weight_constraint': 4}\n",
      "0.931809 (0.010940) with: {'dropout_rate': 0.4, 'weight_constraint': 5}\n",
      "0.929205 (0.015366) with: {'dropout_rate': 0.5, 'weight_constraint': 1}\n",
      "0.921007 (0.008429) with: {'dropout_rate': 0.5, 'weight_constraint': 2}\n",
      "0.921489 (0.020008) with: {'dropout_rate': 0.5, 'weight_constraint': 3}\n",
      "0.916184 (0.010739) with: {'dropout_rate': 0.5, 'weight_constraint': 4}\n",
      "0.928723 (0.007591) with: {'dropout_rate': 0.5, 'weight_constraint': 5}\n",
      "0.891975 (0.001573) with: {'dropout_rate': 0.6, 'weight_constraint': 1}\n",
      "0.907311 (0.019345) with: {'dropout_rate': 0.6, 'weight_constraint': 2}\n",
      "0.906732 (0.013467) with: {'dropout_rate': 0.6, 'weight_constraint': 3}\n",
      "0.905093 (0.016252) with: {'dropout_rate': 0.6, 'weight_constraint': 4}\n",
      "0.892554 (0.003208) with: {'dropout_rate': 0.6, 'weight_constraint': 5}\n",
      "0.882041 (0.004607) with: {'dropout_rate': 0.7, 'weight_constraint': 1}\n",
      "0.885899 (0.004039) with: {'dropout_rate': 0.7, 'weight_constraint': 2}\n",
      "0.884452 (0.008037) with: {'dropout_rate': 0.7, 'weight_constraint': 3}\n",
      "0.885610 (0.006742) with: {'dropout_rate': 0.7, 'weight_constraint': 4}\n",
      "0.884356 (0.010506) with: {'dropout_rate': 0.7, 'weight_constraint': 5}\n",
      "0.873264 (0.001934) with: {'dropout_rate': 0.8, 'weight_constraint': 1}\n",
      "0.866898 (0.008684) with: {'dropout_rate': 0.8, 'weight_constraint': 2}\n",
      "0.867477 (0.007775) with: {'dropout_rate': 0.8, 'weight_constraint': 3}\n",
      "0.857542 (0.013714) with: {'dropout_rate': 0.8, 'weight_constraint': 4}\n",
      "0.867477 (0.014779) with: {'dropout_rate': 0.8, 'weight_constraint': 5}\n",
      "0.774498 (0.089659) with: {'dropout_rate': 0.9, 'weight_constraint': 1}\n",
      "0.764660 (0.042893) with: {'dropout_rate': 0.9, 'weight_constraint': 2}\n",
      "0.676698 (0.028116) with: {'dropout_rate': 0.9, 'weight_constraint': 3}\n",
      "0.751157 (0.077365) with: {'dropout_rate': 0.9, 'weight_constraint': 4}\n",
      "0.715760 (0.032025) with: {'dropout_rate': 0.9, 'weight_constraint': 5}\n"
     ]
    }
   ],
   "source": [
    "for mean, stdev, param in zip(means, stds, params):\n",
    "    print(\"%f (%f) with: %r\" % (mean, stdev, param))"
   ]
  },
  {
   "cell_type": "code",
   "execution_count": null,
   "metadata": {},
   "outputs": [],
   "source": []
  }
 ],
 "metadata": {
  "kernelspec": {
   "display_name": "Python 3",
   "language": "python",
   "name": "python3"
  },
  "language_info": {
   "codemirror_mode": {
    "name": "ipython",
    "version": 3
   },
   "file_extension": ".py",
   "mimetype": "text/x-python",
   "name": "python",
   "nbconvert_exporter": "python",
   "pygments_lexer": "ipython3",
   "version": "3.8.5"
  }
 },
 "nbformat": 4,
 "nbformat_minor": 4
}
