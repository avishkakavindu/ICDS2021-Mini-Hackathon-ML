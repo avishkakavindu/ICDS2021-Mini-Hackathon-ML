{
 "cells": [
  {
   "cell_type": "code",
   "execution_count": 1,
   "metadata": {},
   "outputs": [],
   "source": [
    "import pandas as pd\n",
    "from sklearn.model_selection import train_test_split\n",
    "from sklearn.compose import make_column_transformer\n",
    "from sklearn import preprocessing \n",
    "import numpy as np\n",
    "import os"
   ]
  },
  {
   "cell_type": "code",
   "execution_count": 2,
   "metadata": {},
   "outputs": [],
   "source": [
    "cwd = os.getcwd()\n",
    "test_set = pd.DataFrame(pd.read_csv(os.path.join(cwd, 'datasets/test_data.csv')))\n",
    "dataset = pd.DataFrame(pd.read_csv(os.path.join(cwd, 'datasets/train_data.csv')))"
   ]
  },
  {
   "cell_type": "code",
   "execution_count": 3,
   "metadata": {},
   "outputs": [
    {
     "data": {
      "text/html": [
       "<div>\n",
       "<style scoped>\n",
       "    .dataframe tbody tr th:only-of-type {\n",
       "        vertical-align: middle;\n",
       "    }\n",
       "\n",
       "    .dataframe tbody tr th {\n",
       "        vertical-align: top;\n",
       "    }\n",
       "\n",
       "    .dataframe thead th {\n",
       "        text-align: right;\n",
       "    }\n",
       "</style>\n",
       "<table border=\"1\" class=\"dataframe\">\n",
       "  <thead>\n",
       "    <tr style=\"text-align: right;\">\n",
       "      <th></th>\n",
       "      <th>ID</th>\n",
       "      <th>parents</th>\n",
       "      <th>has_nurs</th>\n",
       "      <th>form</th>\n",
       "      <th>children</th>\n",
       "      <th>housing</th>\n",
       "      <th>finance</th>\n",
       "      <th>social</th>\n",
       "      <th>health</th>\n",
       "      <th>app_status</th>\n",
       "    </tr>\n",
       "  </thead>\n",
       "  <tbody>\n",
       "    <tr>\n",
       "      <th>0</th>\n",
       "      <td>1</td>\n",
       "      <td>usual</td>\n",
       "      <td>less_proper</td>\n",
       "      <td>complete</td>\n",
       "      <td>3</td>\n",
       "      <td>critical</td>\n",
       "      <td>convenient</td>\n",
       "      <td>problematic</td>\n",
       "      <td>not_recom</td>\n",
       "      <td>0</td>\n",
       "    </tr>\n",
       "    <tr>\n",
       "      <th>1</th>\n",
       "      <td>2</td>\n",
       "      <td>pretentious</td>\n",
       "      <td>very_crit</td>\n",
       "      <td>completed</td>\n",
       "      <td>1</td>\n",
       "      <td>convenient</td>\n",
       "      <td>inconv</td>\n",
       "      <td>nonprob</td>\n",
       "      <td>not_recom</td>\n",
       "      <td>0</td>\n",
       "    </tr>\n",
       "    <tr>\n",
       "      <th>2</th>\n",
       "      <td>3</td>\n",
       "      <td>pretentious</td>\n",
       "      <td>proper</td>\n",
       "      <td>incomplete</td>\n",
       "      <td>1</td>\n",
       "      <td>less_conv</td>\n",
       "      <td>convenient</td>\n",
       "      <td>slightly_prob</td>\n",
       "      <td>priority</td>\n",
       "      <td>1</td>\n",
       "    </tr>\n",
       "    <tr>\n",
       "      <th>3</th>\n",
       "      <td>4</td>\n",
       "      <td>great_pret</td>\n",
       "      <td>improper</td>\n",
       "      <td>complete</td>\n",
       "      <td>1</td>\n",
       "      <td>convenient</td>\n",
       "      <td>convenient</td>\n",
       "      <td>nonprob</td>\n",
       "      <td>recommended</td>\n",
       "      <td>1</td>\n",
       "    </tr>\n",
       "    <tr>\n",
       "      <th>4</th>\n",
       "      <td>5</td>\n",
       "      <td>great_pret</td>\n",
       "      <td>less_proper</td>\n",
       "      <td>completed</td>\n",
       "      <td>1</td>\n",
       "      <td>convenient</td>\n",
       "      <td>convenient</td>\n",
       "      <td>slightly_prob</td>\n",
       "      <td>priority</td>\n",
       "      <td>1</td>\n",
       "    </tr>\n",
       "  </tbody>\n",
       "</table>\n",
       "</div>"
      ],
      "text/plain": [
       "   ID      parents     has_nurs        form children     housing     finance  \\\n",
       "0   1        usual  less_proper    complete        3    critical  convenient   \n",
       "1   2  pretentious    very_crit   completed        1  convenient      inconv   \n",
       "2   3  pretentious       proper  incomplete        1   less_conv  convenient   \n",
       "3   4   great_pret     improper    complete        1  convenient  convenient   \n",
       "4   5   great_pret  less_proper   completed        1  convenient  convenient   \n",
       "\n",
       "          social       health  app_status  \n",
       "0    problematic    not_recom           0  \n",
       "1        nonprob    not_recom           0  \n",
       "2  slightly_prob     priority           1  \n",
       "3        nonprob  recommended           1  \n",
       "4  slightly_prob     priority           1  "
      ]
     },
     "execution_count": 3,
     "metadata": {},
     "output_type": "execute_result"
    }
   ],
   "source": [
    "dataset.head()"
   ]
  },
  {
   "cell_type": "code",
   "execution_count": 4,
   "metadata": {},
   "outputs": [
    {
     "data": {
      "text/plain": [
       "(10368, 10)"
      ]
     },
     "execution_count": 4,
     "metadata": {},
     "output_type": "execute_result"
    }
   ],
   "source": [
    "dataset.shape"
   ]
  },
  {
   "cell_type": "code",
   "execution_count": 5,
   "metadata": {},
   "outputs": [
    {
     "name": "stdout",
     "output_type": "stream",
     "text": [
      "<class 'pandas.core.frame.DataFrame'>\n",
      "RangeIndex: 10368 entries, 0 to 10367\n",
      "Data columns (total 10 columns):\n",
      " #   Column      Non-Null Count  Dtype \n",
      "---  ------      --------------  ----- \n",
      " 0   ID          10368 non-null  int64 \n",
      " 1   parents     10368 non-null  object\n",
      " 2   has_nurs    10368 non-null  object\n",
      " 3   form        10368 non-null  object\n",
      " 4   children    10368 non-null  object\n",
      " 5   housing     10368 non-null  object\n",
      " 6   finance     10368 non-null  object\n",
      " 7   social      10368 non-null  object\n",
      " 8   health      10368 non-null  object\n",
      " 9   app_status  10368 non-null  int64 \n",
      "dtypes: int64(2), object(8)\n",
      "memory usage: 810.1+ KB\n"
     ]
    }
   ],
   "source": [
    "dataset.info()"
   ]
  },
  {
   "cell_type": "code",
   "execution_count": 6,
   "metadata": {},
   "outputs": [
    {
     "name": "stdout",
     "output_type": "stream",
     "text": [
      "<class 'pandas.core.frame.DataFrame'>\n",
      "RangeIndex: 2592 entries, 0 to 2591\n",
      "Data columns (total 9 columns):\n",
      " #   Column    Non-Null Count  Dtype \n",
      "---  ------    --------------  ----- \n",
      " 0   ID        2592 non-null   int64 \n",
      " 1   parents   2592 non-null   object\n",
      " 2   has_nurs  2592 non-null   object\n",
      " 3   form      2592 non-null   object\n",
      " 4   children  2592 non-null   object\n",
      " 5   housing   2592 non-null   object\n",
      " 6   finance   2592 non-null   object\n",
      " 7   social    2592 non-null   object\n",
      " 8   health    2592 non-null   object\n",
      "dtypes: int64(1), object(8)\n",
      "memory usage: 182.4+ KB\n"
     ]
    }
   ],
   "source": [
    "test_set.info()"
   ]
  },
  {
   "cell_type": "code",
   "execution_count": 7,
   "metadata": {},
   "outputs": [],
   "source": [
    "dataset[dataset.isnull().any(axis=1)]    # any null records available?\n",
    "del dataset['ID']\n",
    "del test_set['ID']\n",
    "del dataset['form']\n",
    "del test_set['form']"
   ]
  },
  {
   "cell_type": "markdown",
   "metadata": {},
   "source": [
    "### Label Encoding"
   ]
  },
  {
   "cell_type": "code",
   "execution_count": 8,
   "metadata": {},
   "outputs": [],
   "source": [
    "label_encoder = preprocessing.LabelEncoder()"
   ]
  },
  {
   "cell_type": "code",
   "execution_count": 9,
   "metadata": {},
   "outputs": [],
   "source": [
    "# Label Encoding for ordinal columns\n",
    "def clean_ordinal(dataset):\n",
    "    columns_ordinal = ['parents', 'has_nurs', 'children', 'housing', 'social', 'health', 'finance']\n",
    "\n",
    "    for column in columns_ordinal:\n",
    "        dataset[column] = label_encoder.fit_transform(dataset[column])\n",
    "    return dataset"
   ]
  },
  {
   "cell_type": "markdown",
   "metadata": {},
   "source": [
    "### One Hot Encoding"
   ]
  },
  {
   "cell_type": "code",
   "execution_count": 10,
   "metadata": {},
   "outputs": [],
   "source": [
    "onehot_encoder = preprocessing.OneHotEncoder(drop='first')"
   ]
  },
  {
   "cell_type": "code",
   "execution_count": 11,
   "metadata": {},
   "outputs": [],
   "source": [
    "# OneHotEncoding for nominal columns\n",
    "def clean_nominal(dataset):\n",
    "    columns_nominal = []\n",
    "\n",
    "    cleaned_dataset = dataset\n",
    "\n",
    "    for column in columns_nominal:\n",
    "        X = onehot_encoder.fit_transform(dataset[column].values.reshape(-1, 1)).toarray()\n",
    "        # create dataframe from encoded data\n",
    "        dataset_onehot = pd.DataFrame(X, columns = [column + '_' + str(i) for i in range(X.shape[1])]) \n",
    "        # update dataset -> cleaned_dataset\n",
    "        cleaned_dataset = pd.concat([dataset_onehot, cleaned_dataset], axis=1)\n",
    "        # remove encoded column from dataset\n",
    "        del cleaned_dataset[column]\n",
    "    return cleaned_dataset"
   ]
  },
  {
   "cell_type": "code",
   "execution_count": 12,
   "metadata": {},
   "outputs": [
    {
     "data": {
      "text/html": [
       "<div>\n",
       "<style scoped>\n",
       "    .dataframe tbody tr th:only-of-type {\n",
       "        vertical-align: middle;\n",
       "    }\n",
       "\n",
       "    .dataframe tbody tr th {\n",
       "        vertical-align: top;\n",
       "    }\n",
       "\n",
       "    .dataframe thead th {\n",
       "        text-align: right;\n",
       "    }\n",
       "</style>\n",
       "<table border=\"1\" class=\"dataframe\">\n",
       "  <thead>\n",
       "    <tr style=\"text-align: right;\">\n",
       "      <th></th>\n",
       "      <th>parents</th>\n",
       "      <th>has_nurs</th>\n",
       "      <th>children</th>\n",
       "      <th>housing</th>\n",
       "      <th>finance</th>\n",
       "      <th>social</th>\n",
       "      <th>health</th>\n",
       "    </tr>\n",
       "  </thead>\n",
       "  <tbody>\n",
       "    <tr>\n",
       "      <th>0</th>\n",
       "      <td>2</td>\n",
       "      <td>3</td>\n",
       "      <td>0</td>\n",
       "      <td>0</td>\n",
       "      <td>0</td>\n",
       "      <td>0</td>\n",
       "      <td>2</td>\n",
       "    </tr>\n",
       "    <tr>\n",
       "      <th>1</th>\n",
       "      <td>2</td>\n",
       "      <td>3</td>\n",
       "      <td>0</td>\n",
       "      <td>0</td>\n",
       "      <td>1</td>\n",
       "      <td>0</td>\n",
       "      <td>1</td>\n",
       "    </tr>\n",
       "    <tr>\n",
       "      <th>2</th>\n",
       "      <td>2</td>\n",
       "      <td>3</td>\n",
       "      <td>0</td>\n",
       "      <td>0</td>\n",
       "      <td>1</td>\n",
       "      <td>1</td>\n",
       "      <td>1</td>\n",
       "    </tr>\n",
       "    <tr>\n",
       "      <th>3</th>\n",
       "      <td>2</td>\n",
       "      <td>3</td>\n",
       "      <td>0</td>\n",
       "      <td>2</td>\n",
       "      <td>0</td>\n",
       "      <td>1</td>\n",
       "      <td>2</td>\n",
       "    </tr>\n",
       "    <tr>\n",
       "      <th>4</th>\n",
       "      <td>2</td>\n",
       "      <td>3</td>\n",
       "      <td>0</td>\n",
       "      <td>2</td>\n",
       "      <td>0</td>\n",
       "      <td>1</td>\n",
       "      <td>1</td>\n",
       "    </tr>\n",
       "  </tbody>\n",
       "</table>\n",
       "</div>"
      ],
      "text/plain": [
       "   parents  has_nurs  children  housing  finance  social  health\n",
       "0        2         3         0        0        0       0       2\n",
       "1        2         3         0        0        1       0       1\n",
       "2        2         3         0        0        1       1       1\n",
       "3        2         3         0        2        0       1       2\n",
       "4        2         3         0        2        0       1       1"
      ]
     },
     "execution_count": 12,
     "metadata": {},
     "output_type": "execute_result"
    }
   ],
   "source": [
    "# Test set cleaning\n",
    "test_set = clean_ordinal(test_set)\n",
    "cleaned_test_set = clean_nominal(test_set)\n",
    "cleaned_test_set.head()"
   ]
  },
  {
   "cell_type": "code",
   "execution_count": 14,
   "metadata": {},
   "outputs": [
    {
     "data": {
      "text/html": [
       "<div>\n",
       "<style scoped>\n",
       "    .dataframe tbody tr th:only-of-type {\n",
       "        vertical-align: middle;\n",
       "    }\n",
       "\n",
       "    .dataframe tbody tr th {\n",
       "        vertical-align: top;\n",
       "    }\n",
       "\n",
       "    .dataframe thead th {\n",
       "        text-align: right;\n",
       "    }\n",
       "</style>\n",
       "<table border=\"1\" class=\"dataframe\">\n",
       "  <thead>\n",
       "    <tr style=\"text-align: right;\">\n",
       "      <th></th>\n",
       "      <th>parents</th>\n",
       "      <th>has_nurs</th>\n",
       "      <th>children</th>\n",
       "      <th>housing</th>\n",
       "      <th>finance</th>\n",
       "      <th>social</th>\n",
       "      <th>health</th>\n",
       "      <th>app_status</th>\n",
       "    </tr>\n",
       "  </thead>\n",
       "  <tbody>\n",
       "    <tr>\n",
       "      <th>0</th>\n",
       "      <td>2</td>\n",
       "      <td>2</td>\n",
       "      <td>2</td>\n",
       "      <td>1</td>\n",
       "      <td>0</td>\n",
       "      <td>1</td>\n",
       "      <td>0</td>\n",
       "      <td>0</td>\n",
       "    </tr>\n",
       "    <tr>\n",
       "      <th>1</th>\n",
       "      <td>1</td>\n",
       "      <td>4</td>\n",
       "      <td>0</td>\n",
       "      <td>0</td>\n",
       "      <td>1</td>\n",
       "      <td>0</td>\n",
       "      <td>0</td>\n",
       "      <td>0</td>\n",
       "    </tr>\n",
       "    <tr>\n",
       "      <th>2</th>\n",
       "      <td>1</td>\n",
       "      <td>3</td>\n",
       "      <td>0</td>\n",
       "      <td>2</td>\n",
       "      <td>0</td>\n",
       "      <td>2</td>\n",
       "      <td>1</td>\n",
       "      <td>1</td>\n",
       "    </tr>\n",
       "    <tr>\n",
       "      <th>3</th>\n",
       "      <td>0</td>\n",
       "      <td>1</td>\n",
       "      <td>0</td>\n",
       "      <td>0</td>\n",
       "      <td>0</td>\n",
       "      <td>0</td>\n",
       "      <td>2</td>\n",
       "      <td>1</td>\n",
       "    </tr>\n",
       "    <tr>\n",
       "      <th>4</th>\n",
       "      <td>0</td>\n",
       "      <td>2</td>\n",
       "      <td>0</td>\n",
       "      <td>0</td>\n",
       "      <td>0</td>\n",
       "      <td>2</td>\n",
       "      <td>1</td>\n",
       "      <td>1</td>\n",
       "    </tr>\n",
       "  </tbody>\n",
       "</table>\n",
       "</div>"
      ],
      "text/plain": [
       "   parents  has_nurs  children  housing  finance  social  health  app_status\n",
       "0        2         2         2        1        0       1       0           0\n",
       "1        1         4         0        0        1       0       0           0\n",
       "2        1         3         0        2        0       2       1           1\n",
       "3        0         1         0        0        0       0       2           1\n",
       "4        0         2         0        0        0       2       1           1"
      ]
     },
     "execution_count": 14,
     "metadata": {},
     "output_type": "execute_result"
    }
   ],
   "source": [
    "cleaned_dataset = clean_nominal(clean_ordinal(dataset))\n",
    "cleaned_dataset.head()"
   ]
  },
  {
   "cell_type": "markdown",
   "metadata": {},
   "source": [
    "### Independant dependant var splitting"
   ]
  },
  {
   "cell_type": "code",
   "execution_count": 15,
   "metadata": {},
   "outputs": [],
   "source": [
    "x = cleaned_dataset.iloc[:, 0:-1]\n",
    "y = cleaned_dataset.iloc[:, -1]"
   ]
  },
  {
   "cell_type": "markdown",
   "metadata": {},
   "source": [
    "### Normalizing"
   ]
  },
  {
   "cell_type": "code",
   "execution_count": 35,
   "metadata": {},
   "outputs": [],
   "source": [
    "from sklearn.preprocessing import MinMaxScaler\n",
    "\n",
    "scaler = MinMaxScaler() \n",
    "\n",
    "x = scaler.fit_transform(x)"
   ]
  },
  {
   "cell_type": "markdown",
   "metadata": {},
   "source": [
    "### Test train split"
   ]
  },
  {
   "cell_type": "code",
   "execution_count": 36,
   "metadata": {},
   "outputs": [],
   "source": [
    "# splitting dataset to training and testing set\n",
    "x_train, x_test, y_train, y_test = train_test_split(x, y, test_size=0.3)"
   ]
  },
  {
   "cell_type": "markdown",
   "metadata": {},
   "source": [
    "### Classifier"
   ]
  },
  {
   "cell_type": "code",
   "execution_count": 37,
   "metadata": {},
   "outputs": [
    {
     "data": {
      "text/plain": [
       "(7257, 7)"
      ]
     },
     "execution_count": 37,
     "metadata": {},
     "output_type": "execute_result"
    }
   ],
   "source": [
    "x_train.shape"
   ]
  },
  {
   "cell_type": "code",
   "execution_count": 38,
   "metadata": {},
   "outputs": [],
   "source": [
    "from keras.models import Sequential\n",
    "from keras.layers import Dense"
   ]
  },
  {
   "cell_type": "code",
   "execution_count": 105,
   "metadata": {},
   "outputs": [],
   "source": [
    "classifier = Sequential()"
   ]
  },
  {
   "cell_type": "code",
   "execution_count": 106,
   "metadata": {},
   "outputs": [],
   "source": [
    "activation = 'tanh'"
   ]
  },
  {
   "cell_type": "code",
   "execution_count": 107,
   "metadata": {},
   "outputs": [],
   "source": [
    "classifier.add(Dense(25,\n",
    "                     input_shape=(7, ),\n",
    "                     kernel_initializer='uniform',\n",
    "                     activation=activation                       \n",
    "                    )\n",
    "              )"
   ]
  },
  {
   "cell_type": "code",
   "execution_count": 108,
   "metadata": {},
   "outputs": [],
   "source": [
    "classifier.add(Dense(25,\n",
    "                     kernel_initializer='uniform',\n",
    "                     activation=activation                        \n",
    "                    )\n",
    "              )"
   ]
  },
  {
   "cell_type": "code",
   "execution_count": 109,
   "metadata": {},
   "outputs": [],
   "source": [
    "classifier.add(Dense(5,\n",
    "                     kernel_initializer='uniform',\n",
    "                     activation='softmax'                        \n",
    "                    )\n",
    "              )"
   ]
  },
  {
   "cell_type": "code",
   "execution_count": 110,
   "metadata": {},
   "outputs": [],
   "source": [
    "classifier.compile(optimizer='adam',\n",
    "                  loss='sparse_categorical_crossentropy',\n",
    "                  metrics=['accuracy']\n",
    "                  )"
   ]
  },
  {
   "cell_type": "code",
   "execution_count": 111,
   "metadata": {},
   "outputs": [
    {
     "name": "stdout",
     "output_type": "stream",
     "text": [
      "Epoch 1/100\n",
      "726/726 [==============================] - 1s 806us/step - loss: 0.8836 - accuracy: 0.6446\n",
      "Epoch 2/100\n",
      "726/726 [==============================] - 0s 686us/step - loss: 0.6328 - accuracy: 0.6596\n",
      "Epoch 3/100\n",
      "726/726 [==============================] - 1s 767us/step - loss: 0.4365 - accuracy: 0.7691\n",
      "Epoch 4/100\n",
      "726/726 [==============================] - 1s 741us/step - loss: 0.4100 - accuracy: 0.7714\n",
      "Epoch 5/100\n",
      "726/726 [==============================] - 1s 723us/step - loss: 0.4049 - accuracy: 0.7739\n",
      "Epoch 6/100\n",
      "726/726 [==============================] - 1s 727us/step - loss: 0.3903 - accuracy: 0.7790\n",
      "Epoch 7/100\n",
      "726/726 [==============================] - 1s 701us/step - loss: 0.3832 - accuracy: 0.7832\n",
      "Epoch 8/100\n",
      "726/726 [==============================] - 1s 730us/step - loss: 0.3745 - accuracy: 0.7913\n",
      "Epoch 9/100\n",
      "726/726 [==============================] - 1s 714us/step - loss: 0.3720 - accuracy: 0.7977\n",
      "Epoch 10/100\n",
      "726/726 [==============================] - 1s 738us/step - loss: 0.3642 - accuracy: 0.7973\n",
      "Epoch 11/100\n",
      "726/726 [==============================] - 1s 694us/step - loss: 0.3520 - accuracy: 0.8043\n",
      "Epoch 12/100\n",
      "726/726 [==============================] - 1s 756us/step - loss: 0.3533 - accuracy: 0.8183\n",
      "Epoch 13/100\n",
      "726/726 [==============================] - 1s 759us/step - loss: 0.3310 - accuracy: 0.8294\n",
      "Epoch 14/100\n",
      "726/726 [==============================] - 1s 778us/step - loss: 0.3440 - accuracy: 0.8252\n",
      "Epoch 15/100\n",
      "726/726 [==============================] - 0s 684us/step - loss: 0.3371 - accuracy: 0.8237\n",
      "Epoch 16/100\n",
      "726/726 [==============================] - 1s 741us/step - loss: 0.3345 - accuracy: 0.8256\n",
      "Epoch 17/100\n",
      "726/726 [==============================] - 1s 731us/step - loss: 0.3281 - accuracy: 0.8304\n",
      "Epoch 18/100\n",
      "726/726 [==============================] - 1s 712us/step - loss: 0.3222 - accuracy: 0.8349\n",
      "Epoch 19/100\n",
      "726/726 [==============================] - 1s 854us/step - loss: 0.3145 - accuracy: 0.8410\n",
      "Epoch 20/100\n",
      "726/726 [==============================] - 1s 785us/step - loss: 0.3257 - accuracy: 0.8341\n",
      "Epoch 21/100\n",
      "726/726 [==============================] - 1s 779us/step - loss: 0.3160 - accuracy: 0.8348\n",
      "Epoch 22/100\n",
      "726/726 [==============================] - 1s 746us/step - loss: 0.3099 - accuracy: 0.8443\n",
      "Epoch 23/100\n",
      "726/726 [==============================] - 1s 848us/step - loss: 0.3164 - accuracy: 0.8354\n",
      "Epoch 24/100\n",
      "726/726 [==============================] - 1s 825us/step - loss: 0.2969 - accuracy: 0.8441\n",
      "Epoch 25/100\n",
      "726/726 [==============================] - 1s 844us/step - loss: 0.2957 - accuracy: 0.8526\n",
      "Epoch 26/100\n",
      "726/726 [==============================] - 1s 943us/step - loss: 0.2790 - accuracy: 0.8616\n",
      "Epoch 27/100\n",
      "726/726 [==============================] - 1s 741us/step - loss: 0.2742 - accuracy: 0.8661\n",
      "Epoch 28/100\n",
      "726/726 [==============================] - 1s 778us/step - loss: 0.2521 - accuracy: 0.8813\n",
      "Epoch 29/100\n",
      "726/726 [==============================] - 1s 832us/step - loss: 0.2493 - accuracy: 0.8855\n",
      "Epoch 30/100\n",
      "726/726 [==============================] - 1s 855us/step - loss: 0.2413 - accuracy: 0.8836\n",
      "Epoch 31/100\n",
      "726/726 [==============================] - 1s 992us/step - loss: 0.2280 - accuracy: 0.8982\n",
      "Epoch 32/100\n",
      "726/726 [==============================] - 1s 971us/step - loss: 0.2188 - accuracy: 0.9020\n",
      "Epoch 33/100\n",
      "726/726 [==============================] - 1s 959us/step - loss: 0.2061 - accuracy: 0.9093\n",
      "Epoch 34/100\n",
      "726/726 [==============================] - 1s 941us/step - loss: 0.1940 - accuracy: 0.9166\n",
      "Epoch 35/100\n",
      "726/726 [==============================] - 1s 810us/step - loss: 0.1825 - accuracy: 0.9224\n",
      "Epoch 36/100\n",
      "726/726 [==============================] - 0s 646us/step - loss: 0.1775 - accuracy: 0.9236\n",
      "Epoch 37/100\n",
      "726/726 [==============================] - 0s 646us/step - loss: 0.1565 - accuracy: 0.9387\n",
      "Epoch 38/100\n",
      "726/726 [==============================] - 0s 614us/step - loss: 0.1545 - accuracy: 0.9378\n",
      "Epoch 39/100\n",
      "726/726 [==============================] - 0s 611us/step - loss: 0.1512 - accuracy: 0.9396\n",
      "Epoch 40/100\n",
      "726/726 [==============================] - 0s 655us/step - loss: 0.1416 - accuracy: 0.9398\n",
      "Epoch 41/100\n",
      "726/726 [==============================] - 0s 625us/step - loss: 0.1297 - accuracy: 0.9489\n",
      "Epoch 42/100\n",
      "726/726 [==============================] - 0s 662us/step - loss: 0.1315 - accuracy: 0.9465\n",
      "Epoch 43/100\n",
      "726/726 [==============================] - 1s 834us/step - loss: 0.1206 - accuracy: 0.9535\n",
      "Epoch 44/100\n",
      "726/726 [==============================] - 1s 970us/step - loss: 0.1168 - accuracy: 0.9513\n",
      "Epoch 45/100\n",
      "726/726 [==============================] - 1s 937us/step - loss: 0.1156 - accuracy: 0.9527\n",
      "Epoch 46/100\n",
      "726/726 [==============================] - 1s 992us/step - loss: 0.1049 - accuracy: 0.9570\n",
      "Epoch 47/100\n",
      "726/726 [==============================] - 1s 1ms/step - loss: 0.1047 - accuracy: 0.9611\n",
      "Epoch 48/100\n",
      "726/726 [==============================] - 1s 1ms/step - loss: 0.0970 - accuracy: 0.9631\n",
      "Epoch 49/100\n",
      "726/726 [==============================] - 1s 974us/step - loss: 0.0959 - accuracy: 0.9615\n",
      "Epoch 50/100\n",
      "726/726 [==============================] - 1s 901us/step - loss: 0.0944 - accuracy: 0.9628\n",
      "Epoch 51/100\n",
      "726/726 [==============================] - 1s 705us/step - loss: 0.0825 - accuracy: 0.9711\n",
      "Epoch 52/100\n",
      "726/726 [==============================] - 0s 679us/step - loss: 0.0877 - accuracy: 0.9667\n",
      "Epoch 53/100\n",
      "726/726 [==============================] - 1s 861us/step - loss: 0.0881 - accuracy: 0.9656\n",
      "Epoch 54/100\n",
      "726/726 [==============================] - 1s 781us/step - loss: 0.0771 - accuracy: 0.9687\n",
      "Epoch 55/100\n",
      "726/726 [==============================] - 1s 771us/step - loss: 0.0815 - accuracy: 0.9691\n",
      "Epoch 56/100\n",
      "726/726 [==============================] - 1s 759us/step - loss: 0.0782 - accuracy: 0.9672\n",
      "Epoch 57/100\n",
      "726/726 [==============================] - 1s 760us/step - loss: 0.0774 - accuracy: 0.9671\n",
      "Epoch 58/100\n",
      "726/726 [==============================] - 1s 748us/step - loss: 0.0735 - accuracy: 0.9689\n",
      "Epoch 59/100\n",
      "726/726 [==============================] - 1s 778us/step - loss: 0.0770 - accuracy: 0.9678\n",
      "Epoch 60/100\n",
      "726/726 [==============================] - 1s 779us/step - loss: 0.0794 - accuracy: 0.9663\n",
      "Epoch 61/100\n",
      "726/726 [==============================] - 1s 749us/step - loss: 0.0739 - accuracy: 0.9663\n",
      "Epoch 62/100\n",
      "726/726 [==============================] - 1s 745us/step - loss: 0.0703 - accuracy: 0.9687\n",
      "Epoch 63/100\n",
      "726/726 [==============================] - 1s 775us/step - loss: 0.0731 - accuracy: 0.9701\n",
      "Epoch 64/100\n",
      "726/726 [==============================] - 1s 720us/step - loss: 0.0677 - accuracy: 0.9725\n",
      "Epoch 65/100\n",
      "726/726 [==============================] - 1s 737us/step - loss: 0.0749 - accuracy: 0.9663\n",
      "Epoch 66/100\n",
      "726/726 [==============================] - 1s 863us/step - loss: 0.0743 - accuracy: 0.9689\n",
      "Epoch 67/100\n",
      "726/726 [==============================] - 1s 1ms/step - loss: 0.0726 - accuracy: 0.9702\n",
      "Epoch 68/100\n",
      "726/726 [==============================] - 1s 895us/step - loss: 0.0714 - accuracy: 0.97000s - loss: 0.0\n",
      "Epoch 69/100\n",
      "726/726 [==============================] - 1s 777us/step - loss: 0.0698 - accuracy: 0.9689\n",
      "Epoch 70/100\n",
      "726/726 [==============================] - 1s 859us/step - loss: 0.0720 - accuracy: 0.9693\n",
      "Epoch 71/100\n",
      "726/726 [==============================] - 1s 959us/step - loss: 0.0673 - accuracy: 0.9706\n",
      "Epoch 72/100\n",
      "726/726 [==============================] - 1s 1ms/step - loss: 0.0688 - accuracy: 0.9698\n",
      "Epoch 73/100\n",
      "726/726 [==============================] - 1s 901us/step - loss: 0.0689 - accuracy: 0.9687\n",
      "Epoch 74/100\n",
      "726/726 [==============================] - 1s 834us/step - loss: 0.0647 - accuracy: 0.9719\n",
      "Epoch 75/100\n",
      "726/726 [==============================] - 1s 884us/step - loss: 0.0703 - accuracy: 0.9691\n",
      "Epoch 76/100\n",
      "726/726 [==============================] - 1s 920us/step - loss: 0.0657 - accuracy: 0.9718\n",
      "Epoch 77/100\n",
      "726/726 [==============================] - 1s 921us/step - loss: 0.0698 - accuracy: 0.9712\n",
      "Epoch 78/100\n",
      "726/726 [==============================] - 1s 937us/step - loss: 0.0670 - accuracy: 0.9716\n",
      "Epoch 79/100\n"
     ]
    },
    {
     "name": "stdout",
     "output_type": "stream",
     "text": [
      "726/726 [==============================] - 1s 895us/step - loss: 0.0632 - accuracy: 0.9692\n",
      "Epoch 80/100\n",
      "726/726 [==============================] - 1s 887us/step - loss: 0.0632 - accuracy: 0.9708\n",
      "Epoch 81/100\n",
      "726/726 [==============================] - 1s 688us/step - loss: 0.0621 - accuracy: 0.9730\n",
      "Epoch 82/100\n",
      "726/726 [==============================] - 1s 722us/step - loss: 0.0708 - accuracy: 0.9700\n",
      "Epoch 83/100\n",
      "726/726 [==============================] - 1s 821us/step - loss: 0.0636 - accuracy: 0.9704\n",
      "Epoch 84/100\n",
      "726/726 [==============================] - 1s 969us/step - loss: 0.0685 - accuracy: 0.9684\n",
      "Epoch 85/100\n",
      "726/726 [==============================] - 1s 854us/step - loss: 0.0659 - accuracy: 0.9724\n",
      "Epoch 86/100\n",
      "726/726 [==============================] - 1s 942us/step - loss: 0.0628 - accuracy: 0.9722\n",
      "Epoch 87/100\n",
      "726/726 [==============================] - 1s 801us/step - loss: 0.0685 - accuracy: 0.9687\n",
      "Epoch 88/100\n",
      "726/726 [==============================] - 1s 979us/step - loss: 0.0621 - accuracy: 0.9726\n",
      "Epoch 89/100\n",
      "726/726 [==============================] - 1s 903us/step - loss: 0.0672 - accuracy: 0.9704\n",
      "Epoch 90/100\n",
      "726/726 [==============================] - 1s 826us/step - loss: 0.0638 - accuracy: 0.9722\n",
      "Epoch 91/100\n",
      "726/726 [==============================] - 1s 899us/step - loss: 0.0593 - accuracy: 0.9723\n",
      "Epoch 92/100\n",
      "726/726 [==============================] - 1s 846us/step - loss: 0.0683 - accuracy: 0.9686\n",
      "Epoch 93/100\n",
      "726/726 [==============================] - 1s 903us/step - loss: 0.0642 - accuracy: 0.9717\n",
      "Epoch 94/100\n",
      "726/726 [==============================] - 1s 914us/step - loss: 0.0621 - accuracy: 0.9718\n",
      "Epoch 95/100\n",
      "726/726 [==============================] - 1s 946us/step - loss: 0.0622 - accuracy: 0.9738\n",
      "Epoch 96/100\n",
      "726/726 [==============================] - 1s 938us/step - loss: 0.0617 - accuracy: 0.9725\n",
      "Epoch 97/100\n",
      "726/726 [==============================] - 1s 890us/step - loss: 0.0623 - accuracy: 0.9744\n",
      "Epoch 98/100\n",
      "726/726 [==============================] - 1s 828us/step - loss: 0.0593 - accuracy: 0.9757\n",
      "Epoch 99/100\n",
      "726/726 [==============================] - 1s 1ms/step - loss: 0.0583 - accuracy: 0.9740\n",
      "Epoch 100/100\n",
      "726/726 [==============================] - 1s 885us/step - loss: 0.0579 - accuracy: 0.9744\n"
     ]
    },
    {
     "data": {
      "text/plain": [
       "<tensorflow.python.keras.callbacks.History at 0x19417eb0df0>"
      ]
     },
     "execution_count": 111,
     "metadata": {},
     "output_type": "execute_result"
    }
   ],
   "source": [
    "classifier.fit(x_train, y_train, batch_size=10, epochs=100)"
   ]
  },
  {
   "cell_type": "code",
   "execution_count": 114,
   "metadata": {},
   "outputs": [
    {
     "name": "stdout",
     "output_type": "stream",
     "text": [
      "98/98 [==============================] - 0s 443us/step - loss: 0.0696 - accuracy: 0.9704\n"
     ]
    }
   ],
   "source": [
    "# from sklearn import metrics\n",
    "# y_pred = (classifier.predict(x_test) > 0.5)\n",
    "\n",
    "# print('Accuracy', metrics.accuracy_score(y_test, y_pred))\n",
    "# for tanh, sigmoid, binarycrossentropy -> 96.88%\n",
    "loss, accuracy = classifier.evaluate(x_test,y_test)"
   ]
  },
  {
   "cell_type": "code",
   "execution_count": 115,
   "metadata": {},
   "outputs": [
    {
     "name": "stdout",
     "output_type": "stream",
     "text": [
      "97.04275131225586\n"
     ]
    }
   ],
   "source": [
    "print(accuracy*100)"
   ]
  },
  {
   "cell_type": "markdown",
   "metadata": {},
   "source": [
    "### Confusion matrix"
   ]
  },
  {
   "cell_type": "code",
   "execution_count": 125,
   "metadata": {},
   "outputs": [
    {
     "data": {
      "text/plain": [
       "array([1, 0, 0, ..., 0, 0, 1])"
      ]
     },
     "execution_count": 125,
     "metadata": {},
     "output_type": "execute_result"
    }
   ],
   "source": [
    "from sklearn.metrics import confusion_matrix\n",
    "\n",
    "predict = classifier.predict(x_test)\n",
    "\n",
    "predict_class = np.argmax(predict, axis=1)\n",
    "predict_class = np.array(predict_class.tolist())\n",
    "predict_class"
   ]
  },
  {
   "cell_type": "code",
   "execution_count": 126,
   "metadata": {},
   "outputs": [
    {
     "data": {
      "text/html": [
       "<div>\n",
       "<style scoped>\n",
       "    .dataframe tbody tr th:only-of-type {\n",
       "        vertical-align: middle;\n",
       "    }\n",
       "\n",
       "    .dataframe tbody tr th {\n",
       "        vertical-align: top;\n",
       "    }\n",
       "\n",
       "    .dataframe thead th {\n",
       "        text-align: right;\n",
       "    }\n",
       "</style>\n",
       "<table border=\"1\" class=\"dataframe\">\n",
       "  <thead>\n",
       "    <tr style=\"text-align: right;\">\n",
       "      <th>Predicted</th>\n",
       "      <th>0</th>\n",
       "      <th>1</th>\n",
       "      <th>All</th>\n",
       "    </tr>\n",
       "    <tr>\n",
       "      <th>True</th>\n",
       "      <th></th>\n",
       "      <th></th>\n",
       "      <th></th>\n",
       "    </tr>\n",
       "  </thead>\n",
       "  <tbody>\n",
       "    <tr>\n",
       "      <th>0</th>\n",
       "      <td>1947</td>\n",
       "      <td>34</td>\n",
       "      <td>1981</td>\n",
       "    </tr>\n",
       "    <tr>\n",
       "      <th>1</th>\n",
       "      <td>58</td>\n",
       "      <td>1072</td>\n",
       "      <td>1130</td>\n",
       "    </tr>\n",
       "    <tr>\n",
       "      <th>All</th>\n",
       "      <td>2005</td>\n",
       "      <td>1106</td>\n",
       "      <td>3111</td>\n",
       "    </tr>\n",
       "  </tbody>\n",
       "</table>\n",
       "</div>"
      ],
      "text/plain": [
       "Predicted     0     1   All\n",
       "True                       \n",
       "0          1947    34  1981\n",
       "1            58  1072  1130\n",
       "All        2005  1106  3111"
      ]
     },
     "execution_count": 126,
     "metadata": {},
     "output_type": "execute_result"
    }
   ],
   "source": [
    "pd.crosstab(y_test, predict_class, rownames=['True'], colnames=['Predicted'], margins=True)"
   ]
  },
  {
   "cell_type": "markdown",
   "metadata": {},
   "source": [
    "### Classification report"
   ]
  },
  {
   "cell_type": "code",
   "execution_count": 128,
   "metadata": {},
   "outputs": [
    {
     "name": "stdout",
     "output_type": "stream",
     "text": [
      "              precision    recall  f1-score   support\n",
      "\n",
      "           0       0.97      0.98      0.98      1981\n",
      "           1       0.97      0.95      0.96      1130\n",
      "\n",
      "    accuracy                           0.97      3111\n",
      "   macro avg       0.97      0.97      0.97      3111\n",
      "weighted avg       0.97      0.97      0.97      3111\n",
      "\n"
     ]
    }
   ],
   "source": [
    "from sklearn.metrics import classification_report\n",
    "print(classification_report(y_test, predict_class))"
   ]
  },
  {
   "cell_type": "markdown",
   "metadata": {},
   "source": [
    "### ROC-AUC"
   ]
  },
  {
   "cell_type": "code",
   "execution_count": 132,
   "metadata": {},
   "outputs": [],
   "source": [
    "y_pred_proba = classifier.predict_proba(x_test)[:,1]\n",
    "from sklearn.metrics import roc_curve\n",
    "\n",
    "fpr, tpr, thresholds = roc_curve(y_test, y_pred_proba)"
   ]
  },
  {
   "cell_type": "code",
   "execution_count": 134,
   "metadata": {},
   "outputs": [
    {
     "data": {
      "image/png": "[encoded data removed]",
      "text/plain": [
       "<Figure size 432x288 with 1 Axes>"
      ]
     },
     "metadata": {
      "needs_background": "light"
     },
     "output_type": "display_data"
    }
   ],
   "source": [
    "import matplotlib.pyplot as plt\n",
    "\n",
    "plt.plot([0,1],[0,1],'k--')\n",
    "plt.plot(fpr,tpr, label='Knn')\n",
    "plt.xlabel('fpr')\n",
    "plt.ylabel('tpr')\n",
    "plt.title('ANN ROC curve')\n",
    "plt.show()"
   ]
  },
  {
   "cell_type": "code",
   "execution_count": 135,
   "metadata": {},
   "outputs": [
    {
     "data": {
      "text/plain": [
       "0.9969462102361817"
      ]
     },
     "execution_count": 135,
     "metadata": {},
     "output_type": "execute_result"
    }
   ],
   "source": [
    "from sklearn.metrics import roc_auc_score\n",
    "roc_auc_score(y_test,y_pred_proba)"
   ]
  },
  {
   "cell_type": "code",
   "execution_count": null,
   "metadata": {},
   "outputs": [],
   "source": []
  }
 ],
 "metadata": {
  "kernelspec": {
   "display_name": "Python 3",
   "language": "python",
   "name": "python3"
  },
  "language_info": {
   "codemirror_mode": {
    "name": "ipython",
    "version": 3
   },
   "file_extension": ".py",
   "mimetype": "text/x-python",
   "name": "python",
   "nbconvert_exporter": "python",
   "pygments_lexer": "ipython3",
   "version": "3.8.5"
  }
 },
 "nbformat": 4,
 "nbformat_minor": 4
}
