{
 "cells": [
  {
   "cell_type": "code",
   "execution_count": 1,
   "metadata": {},
   "outputs": [],
   "source": [
    "import pandas as pd\n",
    "from sklearn.model_selection import train_test_split\n",
    "from sklearn.compose import make_column_transformer\n",
    "from sklearn import preprocessing \n",
    "import matplotlib.pyplot as plt\n",
    "import numpy as np\n",
    "import os"
   ]
  },
  {
   "cell_type": "code",
   "execution_count": 2,
   "metadata": {},
   "outputs": [],
   "source": [
    "cwd = os.getcwd()\n",
    "test_set = pd.DataFrame(pd.read_csv(os.path.join(cwd, 'datasets/test_data.csv')))\n",
    "dataset = pd.DataFrame(pd.read_csv(os.path.join(cwd, 'datasets/train_data.csv')))"
   ]
  },
  {
   "cell_type": "code",
   "execution_count": 3,
   "metadata": {},
   "outputs": [
    {
     "data": {
      "text/html": [
       "<div>\n",
       "<style scoped>\n",
       "    .dataframe tbody tr th:only-of-type {\n",
       "        vertical-align: middle;\n",
       "    }\n",
       "\n",
       "    .dataframe tbody tr th {\n",
       "        vertical-align: top;\n",
       "    }\n",
       "\n",
       "    .dataframe thead th {\n",
       "        text-align: right;\n",
       "    }\n",
       "</style>\n",
       "<table border=\"1\" class=\"dataframe\">\n",
       "  <thead>\n",
       "    <tr style=\"text-align: right;\">\n",
       "      <th></th>\n",
       "      <th>ID</th>\n",
       "      <th>parents</th>\n",
       "      <th>has_nurs</th>\n",
       "      <th>form</th>\n",
       "      <th>children</th>\n",
       "      <th>housing</th>\n",
       "      <th>finance</th>\n",
       "      <th>social</th>\n",
       "      <th>health</th>\n",
       "      <th>app_status</th>\n",
       "    </tr>\n",
       "  </thead>\n",
       "  <tbody>\n",
       "    <tr>\n",
       "      <th>0</th>\n",
       "      <td>1</td>\n",
       "      <td>usual</td>\n",
       "      <td>less_proper</td>\n",
       "      <td>complete</td>\n",
       "      <td>3</td>\n",
       "      <td>critical</td>\n",
       "      <td>convenient</td>\n",
       "      <td>problematic</td>\n",
       "      <td>not_recom</td>\n",
       "      <td>0</td>\n",
       "    </tr>\n",
       "    <tr>\n",
       "      <th>1</th>\n",
       "      <td>2</td>\n",
       "      <td>pretentious</td>\n",
       "      <td>very_crit</td>\n",
       "      <td>completed</td>\n",
       "      <td>1</td>\n",
       "      <td>convenient</td>\n",
       "      <td>inconv</td>\n",
       "      <td>nonprob</td>\n",
       "      <td>not_recom</td>\n",
       "      <td>0</td>\n",
       "    </tr>\n",
       "    <tr>\n",
       "      <th>2</th>\n",
       "      <td>3</td>\n",
       "      <td>pretentious</td>\n",
       "      <td>proper</td>\n",
       "      <td>incomplete</td>\n",
       "      <td>1</td>\n",
       "      <td>less_conv</td>\n",
       "      <td>convenient</td>\n",
       "      <td>slightly_prob</td>\n",
       "      <td>priority</td>\n",
       "      <td>1</td>\n",
       "    </tr>\n",
       "    <tr>\n",
       "      <th>3</th>\n",
       "      <td>4</td>\n",
       "      <td>great_pret</td>\n",
       "      <td>improper</td>\n",
       "      <td>complete</td>\n",
       "      <td>1</td>\n",
       "      <td>convenient</td>\n",
       "      <td>convenient</td>\n",
       "      <td>nonprob</td>\n",
       "      <td>recommended</td>\n",
       "      <td>1</td>\n",
       "    </tr>\n",
       "    <tr>\n",
       "      <th>4</th>\n",
       "      <td>5</td>\n",
       "      <td>great_pret</td>\n",
       "      <td>less_proper</td>\n",
       "      <td>completed</td>\n",
       "      <td>1</td>\n",
       "      <td>convenient</td>\n",
       "      <td>convenient</td>\n",
       "      <td>slightly_prob</td>\n",
       "      <td>priority</td>\n",
       "      <td>1</td>\n",
       "    </tr>\n",
       "  </tbody>\n",
       "</table>\n",
       "</div>"
      ],
      "text/plain": [
       "   ID      parents     has_nurs        form children     housing     finance  \\\n",
       "0   1        usual  less_proper    complete        3    critical  convenient   \n",
       "1   2  pretentious    very_crit   completed        1  convenient      inconv   \n",
       "2   3  pretentious       proper  incomplete        1   less_conv  convenient   \n",
       "3   4   great_pret     improper    complete        1  convenient  convenient   \n",
       "4   5   great_pret  less_proper   completed        1  convenient  convenient   \n",
       "\n",
       "          social       health  app_status  \n",
       "0    problematic    not_recom           0  \n",
       "1        nonprob    not_recom           0  \n",
       "2  slightly_prob     priority           1  \n",
       "3        nonprob  recommended           1  \n",
       "4  slightly_prob     priority           1  "
      ]
     },
     "execution_count": 3,
     "metadata": {},
     "output_type": "execute_result"
    }
   ],
   "source": [
    "dataset.head()"
   ]
  },
  {
   "cell_type": "code",
   "execution_count": 4,
   "metadata": {},
   "outputs": [
    {
     "data": {
      "text/plain": [
       "(10368, 10)"
      ]
     },
     "execution_count": 4,
     "metadata": {},
     "output_type": "execute_result"
    }
   ],
   "source": [
    "dataset.shape"
   ]
  },
  {
   "cell_type": "code",
   "execution_count": 5,
   "metadata": {},
   "outputs": [
    {
     "name": "stdout",
     "output_type": "stream",
     "text": [
      "<class 'pandas.core.frame.DataFrame'>\n",
      "RangeIndex: 10368 entries, 0 to 10367\n",
      "Data columns (total 10 columns):\n",
      " #   Column      Non-Null Count  Dtype \n",
      "---  ------      --------------  ----- \n",
      " 0   ID          10368 non-null  int64 \n",
      " 1   parents     10368 non-null  object\n",
      " 2   has_nurs    10368 non-null  object\n",
      " 3   form        10368 non-null  object\n",
      " 4   children    10368 non-null  object\n",
      " 5   housing     10368 non-null  object\n",
      " 6   finance     10368 non-null  object\n",
      " 7   social      10368 non-null  object\n",
      " 8   health      10368 non-null  object\n",
      " 9   app_status  10368 non-null  int64 \n",
      "dtypes: int64(2), object(8)\n",
      "memory usage: 810.1+ KB\n"
     ]
    }
   ],
   "source": [
    "dataset.info()"
   ]
  },
  {
   "cell_type": "code",
   "execution_count": 6,
   "metadata": {},
   "outputs": [
    {
     "name": "stdout",
     "output_type": "stream",
     "text": [
      "<class 'pandas.core.frame.DataFrame'>\n",
      "RangeIndex: 2592 entries, 0 to 2591\n",
      "Data columns (total 9 columns):\n",
      " #   Column    Non-Null Count  Dtype \n",
      "---  ------    --------------  ----- \n",
      " 0   ID        2592 non-null   int64 \n",
      " 1   parents   2592 non-null   object\n",
      " 2   has_nurs  2592 non-null   object\n",
      " 3   form      2592 non-null   object\n",
      " 4   children  2592 non-null   object\n",
      " 5   housing   2592 non-null   object\n",
      " 6   finance   2592 non-null   object\n",
      " 7   social    2592 non-null   object\n",
      " 8   health    2592 non-null   object\n",
      "dtypes: int64(1), object(8)\n",
      "memory usage: 182.4+ KB\n"
     ]
    }
   ],
   "source": [
    "test_set.info()"
   ]
  },
  {
   "cell_type": "code",
   "execution_count": 7,
   "metadata": {},
   "outputs": [],
   "source": [
    "dataset[dataset.isnull().any(axis=1)]    # any null records available?\n",
    "del dataset['ID']\n",
    "del test_set['ID']"
   ]
  },
  {
   "cell_type": "markdown",
   "metadata": {},
   "source": [
    "### Label Encoding"
   ]
  },
  {
   "cell_type": "code",
   "execution_count": 8,
   "metadata": {},
   "outputs": [],
   "source": [
    "label_encoder = preprocessing.LabelEncoder()"
   ]
  },
  {
   "cell_type": "code",
   "execution_count": 9,
   "metadata": {},
   "outputs": [],
   "source": [
    "# Label Encoding for ordinal columns\n",
    "def clean_ordinal(dataset):\n",
    "    columns_ordinal = ['parents', 'has_nurs', 'children', 'housing', 'social', 'health', 'finance']\n",
    "\n",
    "    for column in columns_ordinal:\n",
    "        dataset[column] = label_encoder.fit_transform(dataset[column])\n",
    "    return dataset"
   ]
  },
  {
   "cell_type": "markdown",
   "metadata": {},
   "source": [
    "### One Hot Encoding"
   ]
  },
  {
   "cell_type": "code",
   "execution_count": 10,
   "metadata": {},
   "outputs": [],
   "source": [
    "onehot_encoder = preprocessing.OneHotEncoder(drop='first')"
   ]
  },
  {
   "cell_type": "code",
   "execution_count": 11,
   "metadata": {},
   "outputs": [],
   "source": [
    "# OneHotEncoding for nominal columns\n",
    "def clean_nominal(dataset):\n",
    "    columns_nominal = ['form']\n",
    "\n",
    "    cleaned_dataset = dataset\n",
    "\n",
    "    for column in columns_nominal:\n",
    "        X = onehot_encoder.fit_transform(dataset[column].values.reshape(-1, 1)).toarray()\n",
    "        # create dataframe from encoded data\n",
    "        dataset_onehot = pd.DataFrame(X, columns = [column + '_' + str(i) for i in range(X.shape[1])]) \n",
    "        # update dataset -> cleaned_dataset\n",
    "        cleaned_dataset = pd.concat([dataset_onehot, cleaned_dataset], axis=1)\n",
    "        # remove encoded column from dataset\n",
    "        del cleaned_dataset[column]\n",
    "    return cleaned_dataset"
   ]
  },
  {
   "cell_type": "code",
   "execution_count": 12,
   "metadata": {},
   "outputs": [
    {
     "data": {
      "text/html": [
       "<div>\n",
       "<style scoped>\n",
       "    .dataframe tbody tr th:only-of-type {\n",
       "        vertical-align: middle;\n",
       "    }\n",
       "\n",
       "    .dataframe tbody tr th {\n",
       "        vertical-align: top;\n",
       "    }\n",
       "\n",
       "    .dataframe thead th {\n",
       "        text-align: right;\n",
       "    }\n",
       "</style>\n",
       "<table border=\"1\" class=\"dataframe\">\n",
       "  <thead>\n",
       "    <tr style=\"text-align: right;\">\n",
       "      <th></th>\n",
       "      <th>form_0</th>\n",
       "      <th>form_1</th>\n",
       "      <th>form_2</th>\n",
       "      <th>parents</th>\n",
       "      <th>has_nurs</th>\n",
       "      <th>children</th>\n",
       "      <th>housing</th>\n",
       "      <th>finance</th>\n",
       "      <th>social</th>\n",
       "      <th>health</th>\n",
       "    </tr>\n",
       "  </thead>\n",
       "  <tbody>\n",
       "    <tr>\n",
       "      <th>0</th>\n",
       "      <td>0.0</td>\n",
       "      <td>0.0</td>\n",
       "      <td>0.0</td>\n",
       "      <td>2</td>\n",
       "      <td>3</td>\n",
       "      <td>0</td>\n",
       "      <td>0</td>\n",
       "      <td>0</td>\n",
       "      <td>0</td>\n",
       "      <td>2</td>\n",
       "    </tr>\n",
       "    <tr>\n",
       "      <th>1</th>\n",
       "      <td>0.0</td>\n",
       "      <td>0.0</td>\n",
       "      <td>0.0</td>\n",
       "      <td>2</td>\n",
       "      <td>3</td>\n",
       "      <td>0</td>\n",
       "      <td>0</td>\n",
       "      <td>1</td>\n",
       "      <td>0</td>\n",
       "      <td>1</td>\n",
       "    </tr>\n",
       "    <tr>\n",
       "      <th>2</th>\n",
       "      <td>0.0</td>\n",
       "      <td>0.0</td>\n",
       "      <td>0.0</td>\n",
       "      <td>2</td>\n",
       "      <td>3</td>\n",
       "      <td>0</td>\n",
       "      <td>0</td>\n",
       "      <td>1</td>\n",
       "      <td>1</td>\n",
       "      <td>1</td>\n",
       "    </tr>\n",
       "    <tr>\n",
       "      <th>3</th>\n",
       "      <td>0.0</td>\n",
       "      <td>0.0</td>\n",
       "      <td>0.0</td>\n",
       "      <td>2</td>\n",
       "      <td>3</td>\n",
       "      <td>0</td>\n",
       "      <td>2</td>\n",
       "      <td>0</td>\n",
       "      <td>1</td>\n",
       "      <td>2</td>\n",
       "    </tr>\n",
       "    <tr>\n",
       "      <th>4</th>\n",
       "      <td>0.0</td>\n",
       "      <td>0.0</td>\n",
       "      <td>0.0</td>\n",
       "      <td>2</td>\n",
       "      <td>3</td>\n",
       "      <td>0</td>\n",
       "      <td>2</td>\n",
       "      <td>0</td>\n",
       "      <td>1</td>\n",
       "      <td>1</td>\n",
       "    </tr>\n",
       "  </tbody>\n",
       "</table>\n",
       "</div>"
      ],
      "text/plain": [
       "   form_0  form_1  form_2  parents  has_nurs  children  housing  finance  \\\n",
       "0     0.0     0.0     0.0        2         3         0        0        0   \n",
       "1     0.0     0.0     0.0        2         3         0        0        1   \n",
       "2     0.0     0.0     0.0        2         3         0        0        1   \n",
       "3     0.0     0.0     0.0        2         3         0        2        0   \n",
       "4     0.0     0.0     0.0        2         3         0        2        0   \n",
       "\n",
       "   social  health  \n",
       "0       0       2  \n",
       "1       0       1  \n",
       "2       1       1  \n",
       "3       1       2  \n",
       "4       1       1  "
      ]
     },
     "execution_count": 12,
     "metadata": {},
     "output_type": "execute_result"
    }
   ],
   "source": [
    "# Test set cleaning\n",
    "test_set = clean_ordinal(test_set)\n",
    "cleaned_test_set = clean_nominal(test_set)\n",
    "cleaned_test_set.head()"
   ]
  },
  {
   "cell_type": "code",
   "execution_count": 13,
   "metadata": {
    "scrolled": true
   },
   "outputs": [
    {
     "data": {
      "text/html": [
       "<div>\n",
       "<style scoped>\n",
       "    .dataframe tbody tr th:only-of-type {\n",
       "        vertical-align: middle;\n",
       "    }\n",
       "\n",
       "    .dataframe tbody tr th {\n",
       "        vertical-align: top;\n",
       "    }\n",
       "\n",
       "    .dataframe thead th {\n",
       "        text-align: right;\n",
       "    }\n",
       "</style>\n",
       "<table border=\"1\" class=\"dataframe\">\n",
       "  <thead>\n",
       "    <tr style=\"text-align: right;\">\n",
       "      <th></th>\n",
       "      <th>form_0</th>\n",
       "      <th>form_1</th>\n",
       "      <th>form_2</th>\n",
       "      <th>parents</th>\n",
       "      <th>has_nurs</th>\n",
       "      <th>children</th>\n",
       "      <th>housing</th>\n",
       "      <th>finance</th>\n",
       "      <th>social</th>\n",
       "      <th>health</th>\n",
       "      <th>app_status</th>\n",
       "    </tr>\n",
       "  </thead>\n",
       "  <tbody>\n",
       "    <tr>\n",
       "      <th>0</th>\n",
       "      <td>0.0</td>\n",
       "      <td>0.0</td>\n",
       "      <td>0.0</td>\n",
       "      <td>2</td>\n",
       "      <td>2</td>\n",
       "      <td>2</td>\n",
       "      <td>1</td>\n",
       "      <td>0</td>\n",
       "      <td>1</td>\n",
       "      <td>0</td>\n",
       "      <td>0</td>\n",
       "    </tr>\n",
       "    <tr>\n",
       "      <th>1</th>\n",
       "      <td>1.0</td>\n",
       "      <td>0.0</td>\n",
       "      <td>0.0</td>\n",
       "      <td>1</td>\n",
       "      <td>4</td>\n",
       "      <td>0</td>\n",
       "      <td>0</td>\n",
       "      <td>1</td>\n",
       "      <td>0</td>\n",
       "      <td>0</td>\n",
       "      <td>0</td>\n",
       "    </tr>\n",
       "    <tr>\n",
       "      <th>2</th>\n",
       "      <td>0.0</td>\n",
       "      <td>0.0</td>\n",
       "      <td>1.0</td>\n",
       "      <td>1</td>\n",
       "      <td>3</td>\n",
       "      <td>0</td>\n",
       "      <td>2</td>\n",
       "      <td>0</td>\n",
       "      <td>2</td>\n",
       "      <td>1</td>\n",
       "      <td>1</td>\n",
       "    </tr>\n",
       "    <tr>\n",
       "      <th>3</th>\n",
       "      <td>0.0</td>\n",
       "      <td>0.0</td>\n",
       "      <td>0.0</td>\n",
       "      <td>0</td>\n",
       "      <td>1</td>\n",
       "      <td>0</td>\n",
       "      <td>0</td>\n",
       "      <td>0</td>\n",
       "      <td>0</td>\n",
       "      <td>2</td>\n",
       "      <td>1</td>\n",
       "    </tr>\n",
       "    <tr>\n",
       "      <th>4</th>\n",
       "      <td>1.0</td>\n",
       "      <td>0.0</td>\n",
       "      <td>0.0</td>\n",
       "      <td>0</td>\n",
       "      <td>2</td>\n",
       "      <td>0</td>\n",
       "      <td>0</td>\n",
       "      <td>0</td>\n",
       "      <td>2</td>\n",
       "      <td>1</td>\n",
       "      <td>1</td>\n",
       "    </tr>\n",
       "  </tbody>\n",
       "</table>\n",
       "</div>"
      ],
      "text/plain": [
       "   form_0  form_1  form_2  parents  has_nurs  children  housing  finance  \\\n",
       "0     0.0     0.0     0.0        2         2         2        1        0   \n",
       "1     1.0     0.0     0.0        1         4         0        0        1   \n",
       "2     0.0     0.0     1.0        1         3         0        2        0   \n",
       "3     0.0     0.0     0.0        0         1         0        0        0   \n",
       "4     1.0     0.0     0.0        0         2         0        0        0   \n",
       "\n",
       "   social  health  app_status  \n",
       "0       1       0           0  \n",
       "1       0       0           0  \n",
       "2       2       1           1  \n",
       "3       0       2           1  \n",
       "4       2       1           1  "
      ]
     },
     "execution_count": 13,
     "metadata": {},
     "output_type": "execute_result"
    }
   ],
   "source": [
    "cleaned_dataset = clean_nominal(clean_ordinal(dataset))\n",
    "cleaned_dataset.head()"
   ]
  },
  {
   "cell_type": "markdown",
   "metadata": {},
   "source": [
    "### Independant dependant var splitting"
   ]
  },
  {
   "cell_type": "code",
   "execution_count": 14,
   "metadata": {},
   "outputs": [],
   "source": [
    "x = cleaned_dataset.iloc[:, 0:-1]\n",
    "y = cleaned_dataset.iloc[:, -1]"
   ]
  },
  {
   "cell_type": "code",
   "execution_count": 15,
   "metadata": {},
   "outputs": [
    {
     "data": {
      "text/plain": [
       "(10368, 10)"
      ]
     },
     "execution_count": 15,
     "metadata": {},
     "output_type": "execute_result"
    }
   ],
   "source": [
    "x.shape"
   ]
  },
  {
   "cell_type": "markdown",
   "metadata": {},
   "source": [
    "### Normalizing"
   ]
  },
  {
   "cell_type": "code",
   "execution_count": 16,
   "metadata": {},
   "outputs": [],
   "source": [
    "from sklearn.preprocessing import MinMaxScaler\n",
    "\n",
    "scaler = MinMaxScaler() \n",
    "\n",
    "x = scaler.fit_transform(x)"
   ]
  },
  {
   "cell_type": "markdown",
   "metadata": {},
   "source": [
    "### Test train split"
   ]
  },
  {
   "cell_type": "code",
   "execution_count": 17,
   "metadata": {},
   "outputs": [],
   "source": [
    "# splitting dataset to training and testing set\n",
    "x_train, x_test, y_train, y_test = train_test_split(x, y, test_size=0.3)"
   ]
  },
  {
   "cell_type": "markdown",
   "metadata": {},
   "source": [
    "### Classifier"
   ]
  },
  {
   "cell_type": "code",
   "execution_count": 18,
   "metadata": {},
   "outputs": [
    {
     "data": {
      "text/plain": [
       "(7257, 10)"
      ]
     },
     "execution_count": 18,
     "metadata": {},
     "output_type": "execute_result"
    }
   ],
   "source": [
    "x_train.shape"
   ]
  },
  {
   "cell_type": "code",
   "execution_count": 19,
   "metadata": {},
   "outputs": [],
   "source": [
    "from keras.models import Sequential\n",
    "from keras.layers import Dense, Dropout"
   ]
  },
  {
   "cell_type": "code",
   "execution_count": 20,
   "metadata": {},
   "outputs": [],
   "source": [
    "activation = 'relu'\n",
    "optimizer = 'nadam'\n",
    "init = 'uniform'"
   ]
  },
  {
   "cell_type": "code",
   "execution_count": 21,
   "metadata": {},
   "outputs": [],
   "source": [
    "def build_model():\n",
    "    classifier = Sequential()\n",
    "\n",
    "    classifier.add(Dense(256, input_dim=10, activation=activation, kernel_initializer=init))\n",
    "    classifier.add(Dropout(0.3))\n",
    "    classifier.add(Dense(128, input_dim=10, activation=activation, kernel_initializer=init))\n",
    "    classifier.add(Dropout(0.3))\n",
    "    classifier.add(Dense(128, input_dim=10, activation=activation, kernel_initializer=init))\n",
    "    classifier.add(Dropout(0.3))\n",
    "    classifier.add(Dense(1, activation='sigmoid', kernel_initializer=init))\n",
    "    # Compile model\n",
    "    classifier.compile(loss='binary_crossentropy', optimizer=optimizer, metrics=['accuracy'])\n",
    "    \n",
    "    return classifier"
   ]
  },
  {
   "cell_type": "code",
   "execution_count": 22,
   "metadata": {},
   "outputs": [],
   "source": [
    "classifier = build_model()"
   ]
  },
  {
   "cell_type": "code",
   "execution_count": 23,
   "metadata": {},
   "outputs": [
    {
     "name": "stdout",
     "output_type": "stream",
     "text": [
      "Model: \"sequential\"\n",
      "_________________________________________________________________\n",
      "Layer (type)                 Output Shape              Param #   \n",
      "=================================================================\n",
      "dense (Dense)                (None, 256)               2816      \n",
      "_________________________________________________________________\n",
      "dropout (Dropout)            (None, 256)               0         \n",
      "_________________________________________________________________\n",
      "dense_1 (Dense)              (None, 128)               32896     \n",
      "_________________________________________________________________\n",
      "dropout_1 (Dropout)          (None, 128)               0         \n",
      "_________________________________________________________________\n",
      "dense_2 (Dense)              (None, 128)               16512     \n",
      "_________________________________________________________________\n",
      "dropout_2 (Dropout)          (None, 128)               0         \n",
      "_________________________________________________________________\n",
      "dense_3 (Dense)              (None, 1)                 129       \n",
      "=================================================================\n",
      "Total params: 52,353\n",
      "Trainable params: 52,353\n",
      "Non-trainable params: 0\n",
      "_________________________________________________________________\n"
     ]
    }
   ],
   "source": [
    "classifier.summary()"
   ]
  },
  {
   "cell_type": "code",
   "execution_count": 24,
   "metadata": {},
   "outputs": [
    {
     "name": "stdout",
     "output_type": "stream",
     "text": [
      "Epoch 1/50\n",
      "934/934 [==============================] - 2s 2ms/step - loss: 0.4490 - accuracy: 0.7725 - val_loss: 0.2528 - val_accuracy: 0.8939\n",
      "Epoch 2/50\n",
      "934/934 [==============================] - 1s 1ms/step - loss: 0.2463 - accuracy: 0.8871 - val_loss: 0.1805 - val_accuracy: 0.9219\n",
      "Epoch 3/50\n",
      "934/934 [==============================] - 1s 1ms/step - loss: 0.1747 - accuracy: 0.9221 - val_loss: 0.1311 - val_accuracy: 0.9489\n",
      "Epoch 4/50\n",
      "934/934 [==============================] - 1s 1ms/step - loss: 0.1467 - accuracy: 0.9408 - val_loss: 0.1248 - val_accuracy: 0.9421\n",
      "Epoch 5/50\n",
      "934/934 [==============================] - 1s 1ms/step - loss: 0.1223 - accuracy: 0.9494 - val_loss: 0.1071 - val_accuracy: 0.9547\n",
      "Epoch 6/50\n",
      "934/934 [==============================] - 1s 1ms/step - loss: 0.1200 - accuracy: 0.9467 - val_loss: 0.0941 - val_accuracy: 0.9537\n",
      "Epoch 7/50\n",
      "934/934 [==============================] - 1s 1ms/step - loss: 0.1090 - accuracy: 0.9535 - val_loss: 0.0768 - val_accuracy: 0.9672\n",
      "Epoch 8/50\n",
      "934/934 [==============================] - 1s 1ms/step - loss: 0.0999 - accuracy: 0.9606 - val_loss: 0.0709 - val_accuracy: 0.9730\n",
      "Epoch 9/50\n",
      "934/934 [==============================] - 1s 1ms/step - loss: 0.0877 - accuracy: 0.9645 - val_loss: 0.0719 - val_accuracy: 0.9662\n",
      "Epoch 10/50\n",
      "934/934 [==============================] - 1s 1ms/step - loss: 0.0762 - accuracy: 0.9678 - val_loss: 0.0579 - val_accuracy: 0.9769\n",
      "Epoch 11/50\n",
      "934/934 [==============================] - 1s 1ms/step - loss: 0.0736 - accuracy: 0.9702 - val_loss: 0.0449 - val_accuracy: 0.9884\n",
      "Epoch 12/50\n",
      "934/934 [==============================] - 1s 1ms/step - loss: 0.0804 - accuracy: 0.9697 - val_loss: 0.0337 - val_accuracy: 0.9904\n",
      "Epoch 13/50\n",
      "934/934 [==============================] - 1s 1ms/step - loss: 0.0572 - accuracy: 0.9787 - val_loss: 0.0439 - val_accuracy: 0.9807\n",
      "Epoch 14/50\n",
      "934/934 [==============================] - 1s 1ms/step - loss: 0.0769 - accuracy: 0.9712 - val_loss: 0.0245 - val_accuracy: 0.9913\n",
      "Epoch 15/50\n",
      "934/934 [==============================] - 1s 1ms/step - loss: 0.0499 - accuracy: 0.9824 - val_loss: 0.0335 - val_accuracy: 0.9904\n",
      "Epoch 16/50\n",
      "934/934 [==============================] - 1s 1ms/step - loss: 0.0626 - accuracy: 0.9770 - val_loss: 0.0362 - val_accuracy: 0.9855\n",
      "Epoch 17/50\n",
      "934/934 [==============================] - 1s 1ms/step - loss: 0.0475 - accuracy: 0.9846 - val_loss: 0.0239 - val_accuracy: 0.9932\n",
      "Epoch 18/50\n",
      "934/934 [==============================] - 1s 1ms/step - loss: 0.0472 - accuracy: 0.9839 - val_loss: 0.0198 - val_accuracy: 0.9971\n",
      "Epoch 19/50\n",
      "934/934 [==============================] - 1s 1ms/step - loss: 0.0378 - accuracy: 0.9858 - val_loss: 0.0245 - val_accuracy: 0.9923\n",
      "Epoch 20/50\n",
      "934/934 [==============================] - 1s 1ms/step - loss: 0.0425 - accuracy: 0.9830 - val_loss: 0.0117 - val_accuracy: 0.9990\n",
      "Epoch 21/50\n",
      "934/934 [==============================] - 1s 1ms/step - loss: 0.0353 - accuracy: 0.9893 - val_loss: 0.0159 - val_accuracy: 0.9981\n",
      "Epoch 22/50\n",
      "934/934 [==============================] - 1s 1ms/step - loss: 0.0512 - accuracy: 0.9847 - val_loss: 0.0446 - val_accuracy: 0.9904\n",
      "Epoch 23/50\n",
      "934/934 [==============================] - 1s 1ms/step - loss: 0.0409 - accuracy: 0.9854 - val_loss: 0.0166 - val_accuracy: 0.9952\n",
      "Epoch 24/50\n",
      "934/934 [==============================] - 1s 1ms/step - loss: 0.0292 - accuracy: 0.9901 - val_loss: 0.0172 - val_accuracy: 0.9932\n",
      "Epoch 25/50\n",
      "934/934 [==============================] - 1s 1ms/step - loss: 0.0357 - accuracy: 0.9866 - val_loss: 0.0072 - val_accuracy: 1.0000\n",
      "Epoch 26/50\n",
      "934/934 [==============================] - 1s 1ms/step - loss: 0.0300 - accuracy: 0.9898 - val_loss: 0.0066 - val_accuracy: 0.9990\n",
      "Epoch 27/50\n",
      "934/934 [==============================] - 1s 1ms/step - loss: 0.0338 - accuracy: 0.9893 - val_loss: 0.0055 - val_accuracy: 1.0000\n",
      "Epoch 28/50\n",
      "934/934 [==============================] - 1s 1ms/step - loss: 0.0346 - accuracy: 0.9884 - val_loss: 0.0155 - val_accuracy: 0.9942\n",
      "Epoch 29/50\n",
      "934/934 [==============================] - 1s 1ms/step - loss: 0.0334 - accuracy: 0.9875 - val_loss: 0.0090 - val_accuracy: 0.9990\n",
      "Epoch 30/50\n",
      "934/934 [==============================] - 1s 1ms/step - loss: 0.0333 - accuracy: 0.9881 - val_loss: 0.0055 - val_accuracy: 0.9990\n",
      "Epoch 31/50\n",
      "934/934 [==============================] - 1s 1ms/step - loss: 0.0291 - accuracy: 0.9907 - val_loss: 0.0079 - val_accuracy: 0.9981\n",
      "Epoch 32/50\n",
      "934/934 [==============================] - 1s 1ms/step - loss: 0.0281 - accuracy: 0.9883 - val_loss: 0.0080 - val_accuracy: 0.9971\n",
      "Epoch 33/50\n",
      "934/934 [==============================] - 1s 1ms/step - loss: 0.0249 - accuracy: 0.9912 - val_loss: 0.0088 - val_accuracy: 0.9990\n",
      "Epoch 34/50\n",
      "934/934 [==============================] - 1s 1ms/step - loss: 0.0245 - accuracy: 0.9916 - val_loss: 0.0050 - val_accuracy: 0.9971\n",
      "Epoch 35/50\n",
      "934/934 [==============================] - 1s 1ms/step - loss: 0.0293 - accuracy: 0.9901 - val_loss: 0.0088 - val_accuracy: 0.9961\n",
      "Epoch 36/50\n",
      "934/934 [==============================] - 1s 1ms/step - loss: 0.0225 - accuracy: 0.9942 - val_loss: 0.0081 - val_accuracy: 0.9971\n",
      "Epoch 37/50\n",
      "934/934 [==============================] - 1s 1ms/step - loss: 0.0275 - accuracy: 0.9911 - val_loss: 0.0047 - val_accuracy: 1.0000\n",
      "Epoch 38/50\n",
      "934/934 [==============================] - 1s 1ms/step - loss: 0.0319 - accuracy: 0.9909 - val_loss: 0.0038 - val_accuracy: 1.0000\n",
      "Epoch 39/50\n",
      "934/934 [==============================] - 1s 1ms/step - loss: 0.0339 - accuracy: 0.9902 - val_loss: 0.0044 - val_accuracy: 1.0000\n",
      "Epoch 40/50\n",
      "934/934 [==============================] - 1s 1ms/step - loss: 0.0187 - accuracy: 0.9933 - val_loss: 0.0054 - val_accuracy: 0.9990\n",
      "Epoch 41/50\n",
      "934/934 [==============================] - 1s 1ms/step - loss: 0.0175 - accuracy: 0.9940 - val_loss: 0.0037 - val_accuracy: 0.9990\n",
      "Epoch 42/50\n",
      "934/934 [==============================] - 1s 1ms/step - loss: 0.0219 - accuracy: 0.9937 - val_loss: 0.0040 - val_accuracy: 1.0000\n",
      "Epoch 43/50\n",
      "934/934 [==============================] - 1s 1ms/step - loss: 0.0168 - accuracy: 0.9938 - val_loss: 0.0046 - val_accuracy: 1.0000\n",
      "Epoch 44/50\n",
      "934/934 [==============================] - 1s 1ms/step - loss: 0.0248 - accuracy: 0.9918 - val_loss: 0.0042 - val_accuracy: 1.0000\n",
      "Epoch 45/50\n",
      "934/934 [==============================] - 1s 1ms/step - loss: 0.0259 - accuracy: 0.9916 - val_loss: 0.0030 - val_accuracy: 1.0000\n",
      "Epoch 46/50\n",
      "934/934 [==============================] - 1s 1ms/step - loss: 0.0192 - accuracy: 0.9935 - val_loss: 0.0054 - val_accuracy: 1.0000\n",
      "Epoch 47/50\n",
      "934/934 [==============================] - 1s 1ms/step - loss: 0.0169 - accuracy: 0.9952 - val_loss: 0.0039 - val_accuracy: 0.9990\n",
      "Epoch 48/50\n",
      "934/934 [==============================] - 1s 1ms/step - loss: 0.0201 - accuracy: 0.9937 - val_loss: 0.0078 - val_accuracy: 0.9971\n",
      "Epoch 49/50\n",
      "934/934 [==============================] - 1s 1ms/step - loss: 0.0188 - accuracy: 0.9933 - val_loss: 0.0027 - val_accuracy: 0.9990\n",
      "Epoch 50/50\n",
      "934/934 [==============================] - 1s 1ms/step - loss: 0.0227 - accuracy: 0.9933 - val_loss: 0.0020 - val_accuracy: 1.0000\n"
     ]
    }
   ],
   "source": [
    "history = classifier.fit(x, y, batch_size=10, epochs=50, validation_split=0.1, verbose = 1, shuffle=True )"
   ]
  },
  {
   "cell_type": "code",
   "execution_count": 25,
   "metadata": {
    "scrolled": true
   },
   "outputs": [
    {
     "data": {
      "image/png": "[encoded data removed]",
      "text/plain": [
       "<Figure size 432x288 with 1 Axes>"
      ]
     },
     "metadata": {
      "needs_background": "light"
     },
     "output_type": "display_data"
    }
   ],
   "source": [
    "loss = history.history['loss']\n",
    "val_loss = history.history['val_loss']\n",
    "epochs = range(1, len(loss) + 1)\n",
    "plt.plot(epochs, loss, 'b', label='Training Loss')\n",
    "plt.plot(epochs, val_loss, 'r', label='Validation Loss')\n",
    "plt.title('Training and validation loss')\n",
    "plt.xlabel('Epochs')\n",
    "plt.ylabel('Loss')\n",
    "plt.legend()\n",
    "plt.show()"
   ]
  },
  {
   "cell_type": "code",
   "execution_count": 26,
   "metadata": {},
   "outputs": [
    {
     "data": {
      "image/png": "[encoded data removed]",
      "text/plain": [
       "<Figure size 432x288 with 1 Axes>"
      ]
     },
     "metadata": {
      "needs_background": "light"
     },
     "output_type": "display_data"
    }
   ],
   "source": [
    "accuracy = history.history['accuracy']\n",
    "val_accuracy = history.history['val_accuracy']\n",
    "plt.plot(epochs, accuracy, 'b', label='Training Acc')\n",
    "plt.plot(epochs, val_accuracy, 'r', label='Validation Acc')\n",
    "plt.title('Training and validation accuracy')\n",
    "plt.xlabel('Epochs')\n",
    "plt.ylabel('Accuracy')\n",
    "plt.legend()\n",
    "plt.show()"
   ]
  },
  {
   "cell_type": "code",
   "execution_count": 27,
   "metadata": {},
   "outputs": [],
   "source": [
    "from tensorflow.keras.wrappers.scikit_learn import KerasClassifier\n"
   ]
  },
  {
   "cell_type": "code",
   "execution_count": 28,
   "metadata": {},
   "outputs": [
    {
     "name": "stdout",
     "output_type": "stream",
     "text": [
      "260/260 [==============================] - 1s 2ms/step - loss: 0.5211 - accuracy: 0.7096\n",
      "65/65 [==============================] - 0s 498us/step - loss: 0.3305 - accuracy: 0.8375\n",
      "260/260 [==============================] - 1s 1ms/step - loss: 0.5200 - accuracy: 0.7320\n",
      "65/65 [==============================] - 0s 482us/step - loss: 0.3354 - accuracy: 0.8447\n",
      "260/260 [==============================] - 1s 1ms/step - loss: 0.5191 - accuracy: 0.7294\n",
      "65/65 [==============================] - 0s 498us/step - loss: 0.3477 - accuracy: 0.8192\n",
      "260/260 [==============================] - 1s 1ms/step - loss: 0.5175 - accuracy: 0.7215\n",
      "65/65 [==============================] - 0s 561us/step - loss: 0.3030 - accuracy: 0.8640\n",
      "260/260 [==============================] - 1s 1ms/step - loss: 0.5110 - accuracy: 0.7334\n",
      "65/65 [==============================] - 0s 514us/step - loss: 0.3078 - accuracy: 0.8611\n"
     ]
    }
   ],
   "source": [
    "from sklearn.model_selection import cross_val_score\n",
    "\n",
    "model = KerasClassifier(build_model)\n",
    "\n",
    "accuracies = cross_val_score(estimator=model, X=x, y=y, cv=5)"
   ]
  },
  {
   "cell_type": "code",
   "execution_count": 29,
   "metadata": {},
   "outputs": [],
   "source": [
    "mean = accuracies.mean()\n",
    "variance = accuracies.std()"
   ]
  },
  {
   "cell_type": "code",
   "execution_count": 30,
   "metadata": {},
   "outputs": [
    {
     "name": "stdout",
     "output_type": "stream",
     "text": [
      "0.8452965378761291 0.016369538234827303\n"
     ]
    }
   ],
   "source": [
    "print(mean, variance)"
   ]
  },
  {
   "cell_type": "code",
   "execution_count": 31,
   "metadata": {
    "scrolled": true
   },
   "outputs": [
    {
     "name": "stdout",
     "output_type": "stream",
     "text": [
      "Accuracy 1.0\n"
     ]
    }
   ],
   "source": [
    "from sklearn import metrics\n",
    "y_pred = (classifier.predict(x_test) > 0.5)\n",
    "\n",
    "print('Accuracy', metrics.accuracy_score(y_test, y_pred))\n",
    "# # for tanh, sigmoid, binarycrossentropy -> 96.88%\n",
    "# loss, accuracy = classifier.evaluate(x_test,y_test)"
   ]
  },
  {
   "cell_type": "code",
   "execution_count": 32,
   "metadata": {},
   "outputs": [],
   "source": [
    "# epoch 50\n",
    "# act = tanh -> init = uniform |optimizer = adam  -> Accuracy 0.9697846351655416 -> cm(30, 64) -> f1 = 97\n",
    "# act = tanh -> init = uniform |optimizer = nadam  -> Accuracy 0.9588556734169077 -> cm(1, 127) -> f1 = 96\n",
    "## epoch 50\n",
    "# act = relu -> init =uniform | optimizer = adam -> Accuracy 0.973963355834137 -> cm(14, 67) -> f1 = 97 ***\n",
    "# act = relu -> init =uniform | optimizer = nadam -> Accuracy 0.9713918354226937 -> cm(58, 31) -> f1 = 97 ***\n",
    "# act = relu -> init =he_uniform | optimizer = adam -> Accuracy 0.9697846351655416 -> cm(39, 55) -> f1 = 97\n",
    "###\n",
    "# n = 15\n",
    "# act = softsign -> init =uniform | optimizer = nadam ->Accuracy 0.9681774349083896 -> cm(42, 57) -> f1 = 97\n",
    "# act = softsign -> init =he_uniform | optimizer = nadam ->Accuracy 0.9704275152684024 -> cm(47, 45) -> f1 = 97\n",
    "# n = 22\n",
    "# act = softsign -> init =he_uniform | optimizer = nadam ->Accuracy 0.9707489553198329 -> cm(28, 63) -> f1 = 97 \n",
    "# same with epoch 100, batch 40\n"
   ]
  },
  {
   "cell_type": "markdown",
   "metadata": {},
   "source": [
    "### Confusion matrix"
   ]
  },
  {
   "cell_type": "code",
   "execution_count": 33,
   "metadata": {},
   "outputs": [
    {
     "data": {
      "text/plain": [
       "array([[ True],\n",
       "       [ True],\n",
       "       [False],\n",
       "       ...,\n",
       "       [False],\n",
       "       [ True],\n",
       "       [False]])"
      ]
     },
     "execution_count": 33,
     "metadata": {},
     "output_type": "execute_result"
    }
   ],
   "source": [
    "from sklearn.metrics import confusion_matrix\n",
    "\n",
    "predict_class = classifier.predict(x_test)\n",
    "predict_class = (predict_class> 0.5)\n",
    "predict_class"
   ]
  },
  {
   "cell_type": "code",
   "execution_count": 34,
   "metadata": {
    "scrolled": true
   },
   "outputs": [
    {
     "data": {
      "text/plain": [
       "array([[2051,    0],\n",
       "       [   0, 1060]], dtype=int64)"
      ]
     },
     "execution_count": 34,
     "metadata": {},
     "output_type": "execute_result"
    }
   ],
   "source": [
    "cm = confusion_matrix(y_test, y_pred)\n",
    "cm"
   ]
  },
  {
   "cell_type": "markdown",
   "metadata": {},
   "source": [
    "### Classification report"
   ]
  },
  {
   "cell_type": "code",
   "execution_count": 35,
   "metadata": {},
   "outputs": [
    {
     "name": "stdout",
     "output_type": "stream",
     "text": [
      "              precision    recall  f1-score   support\n",
      "\n",
      "           0       1.00      1.00      1.00      2051\n",
      "           1       1.00      1.00      1.00      1060\n",
      "\n",
      "    accuracy                           1.00      3111\n",
      "   macro avg       1.00      1.00      1.00      3111\n",
      "weighted avg       1.00      1.00      1.00      3111\n",
      "\n"
     ]
    }
   ],
   "source": [
    "from sklearn.metrics import classification_report\n",
    "print(classification_report(y_test, predict_class))"
   ]
  },
  {
   "cell_type": "markdown",
   "metadata": {},
   "source": [
    "### ROC-AUC"
   ]
  },
  {
   "cell_type": "code",
   "execution_count": 36,
   "metadata": {},
   "outputs": [
    {
     "name": "stderr",
     "output_type": "stream",
     "text": [
      "C:\\Users\\ACER\\anaconda3\\lib\\site-packages\\tensorflow\\python\\keras\\engine\\sequential.py:425: UserWarning: `model.predict_proba()` is deprecated and will be removed after 2021-01-01. Please use `model.predict()` instead.\n",
      "  warnings.warn('`model.predict_proba()` is deprecated and '\n"
     ]
    }
   ],
   "source": [
    "y_pred_proba = classifier.predict_proba(x_test)\n",
    "from sklearn.metrics import roc_curve\n",
    "\n",
    "fpr, tpr, thresholds = roc_curve(y_test, y_pred_proba)"
   ]
  },
  {
   "cell_type": "code",
   "execution_count": 37,
   "metadata": {},
   "outputs": [
    {
     "data": {
      "image/png": "[encoded data removed]",
      "text/plain": [
       "<Figure size 432x288 with 1 Axes>"
      ]
     },
     "metadata": {
      "needs_background": "light"
     },
     "output_type": "display_data"
    }
   ],
   "source": [
    "import matplotlib.pyplot as plt\n",
    "\n",
    "plt.plot([0,1],[0,1],'k--')\n",
    "plt.plot(fpr,tpr, label='Knn')\n",
    "plt.xlabel('fpr')\n",
    "plt.ylabel('tpr')\n",
    "plt.title('ANN ROC curve')\n",
    "plt.show()"
   ]
  },
  {
   "cell_type": "code",
   "execution_count": 38,
   "metadata": {},
   "outputs": [
    {
     "data": {
      "text/plain": [
       "1.0"
      ]
     },
     "execution_count": 38,
     "metadata": {},
     "output_type": "execute_result"
    }
   ],
   "source": [
    "from sklearn.metrics import roc_auc_score\n",
    "roc_auc_score(y_test,y_pred_proba)"
   ]
  },
  {
   "cell_type": "markdown",
   "metadata": {},
   "source": [
    "### New prediction"
   ]
  },
  {
   "cell_type": "code",
   "execution_count": 39,
   "metadata": {},
   "outputs": [],
   "source": [
    "cleaned_test_set = scaler.fit_transform(cleaned_test_set)"
   ]
  },
  {
   "cell_type": "code",
   "execution_count": 40,
   "metadata": {},
   "outputs": [
    {
     "data": {
      "text/plain": [
       "(2592, 10)"
      ]
     },
     "execution_count": 40,
     "metadata": {},
     "output_type": "execute_result"
    }
   ],
   "source": [
    "cleaned_test_set.shape"
   ]
  },
  {
   "cell_type": "code",
   "execution_count": 41,
   "metadata": {},
   "outputs": [
    {
     "name": "stdout",
     "output_type": "stream",
     "text": [
      "[1 1 1 ... 0 0 0]\n"
     ]
    }
   ],
   "source": [
    "predict = classifier.predict(cleaned_test_set)\n",
    "predict = (predict > 0.5).flatten()\n",
    "arr = predict.astype(int)\n",
    "print(arr)\n",
    "np.savetxt(\"predicted/pred_ann_64_0_2.csv\", np.dstack((np.arange(1, arr.size+1),arr))[0],\"%d,%d\",header=\"ID,app_status\")"
   ]
  },
  {
   "cell_type": "code",
   "execution_count": 37,
   "metadata": {},
   "outputs": [],
   "source": []
  }
 ],
 "metadata": {
  "kernelspec": {
   "display_name": "Python 3",
   "language": "python",
   "name": "python3"
  },
  "language_info": {
   "codemirror_mode": {
    "name": "ipython",
    "version": 3
   },
   "file_extension": ".py",
   "mimetype": "text/x-python",
   "name": "python",
   "nbconvert_exporter": "python",
   "pygments_lexer": "ipython3",
   "version": "3.8.5"
  }
 },
 "nbformat": 4,
 "nbformat_minor": 4
}
